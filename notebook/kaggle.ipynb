{
 "metadata": {
  "language_info": {
   "codemirror_mode": {
    "name": "ipython",
    "version": 3
   },
   "file_extension": ".py",
   "mimetype": "text/x-python",
   "name": "python",
   "nbconvert_exporter": "python",
   "pygments_lexer": "ipython3",
   "version": "3.8.3-final"
  },
  "orig_nbformat": 2,
  "kernelspec": {
   "name": "Python 3.8.3 64-bit ('anaconda3': conda)",
   "display_name": "Python 3.8.3 64-bit ('anaconda3': conda)",
   "metadata": {
    "interpreter": {
     "hash": "995fab6807049b0033455910b5a01f03bf43916313819fff69fd1bf1c03291f8"
    }
   }
  }
 },
 "nbformat": 4,
 "nbformat_minor": 2,
 "cells": [
  {
   "cell_type": "code",
   "execution_count": 1,
   "metadata": {},
   "outputs": [],
   "source": [
    "import numpy as np\n",
    "import pandas as pd"
   ]
  },
  {
   "cell_type": "code",
   "execution_count": 60,
   "metadata": {},
   "outputs": [],
   "source": [
    "train = pd.read_csv('/home/tonne/code/autotonne/data/riiid/train.csv', nrows= 100000)"
   ]
  },
  {
   "cell_type": "code",
   "execution_count": 61,
   "metadata": {},
   "outputs": [
    {
     "output_type": "execute_result",
     "data": {
      "text/plain": [
       "               row_id     timestamp       user_id    content_id  \\\n",
       "count   100000.000000  1.000000e+05  1.000000e+05  100000.00000   \n",
       "unique            NaN           NaN           NaN           NaN   \n",
       "top               NaN           NaN           NaN           NaN   \n",
       "freq              NaN           NaN           NaN           NaN   \n",
       "mean     49999.500000  7.332661e+09  1.090868e+06    5156.21962   \n",
       "std      28867.657797  1.031230e+10  6.657180e+05    3896.63440   \n",
       "min          0.000000  0.000000e+00  1.150000e+02       0.00000   \n",
       "25%      24999.750000  6.595929e+08  4.590170e+05    1797.00000   \n",
       "50%      49999.500000  4.015927e+09  1.282581e+06    4980.00000   \n",
       "75%      74999.250000  1.000065e+10  1.567938e+06    7427.00000   \n",
       "max      99999.000000  5.949531e+10  2.078569e+06   32736.00000   \n",
       "\n",
       "        content_type_id  task_container_id    user_answer  answered_correctly  \\\n",
       "count     100000.000000      100000.000000  100000.000000       100000.000000   \n",
       "unique              NaN                NaN            NaN                 NaN   \n",
       "top                 NaN                NaN            NaN                 NaN   \n",
       "freq                NaN                NaN            NaN                 NaN   \n",
       "mean           0.018180         974.593070       1.382490            0.655080   \n",
       "std            0.133603        1205.095836       1.193602            0.512165   \n",
       "min            0.000000           0.000000      -1.000000           -1.000000   \n",
       "25%            0.000000         124.000000       0.000000            0.000000   \n",
       "50%            0.000000         458.000000       1.000000            1.000000   \n",
       "75%            0.000000        1358.000000       3.000000            1.000000   \n",
       "max            1.000000        5630.000000       3.000000            1.000000   \n",
       "\n",
       "        prior_question_elapsed_time prior_question_had_explanation  \n",
       "count                  97834.000000                          99652  \n",
       "unique                          NaN                              2  \n",
       "top                             NaN                           True  \n",
       "freq                            NaN                          90349  \n",
       "mean                   24715.389854                            NaN  \n",
       "std                    17379.027689                            NaN  \n",
       "min                        0.000000                            NaN  \n",
       "25%                    16000.000000                            NaN  \n",
       "50%                    21000.000000                            NaN  \n",
       "75%                    28666.000000                            NaN  \n",
       "max                   300000.000000                            NaN  "
      ],
      "text/html": "<div>\n<style scoped>\n    .dataframe tbody tr th:only-of-type {\n        vertical-align: middle;\n    }\n\n    .dataframe tbody tr th {\n        vertical-align: top;\n    }\n\n    .dataframe thead th {\n        text-align: right;\n    }\n</style>\n<table border=\"1\" class=\"dataframe\">\n  <thead>\n    <tr style=\"text-align: right;\">\n      <th></th>\n      <th>row_id</th>\n      <th>timestamp</th>\n      <th>user_id</th>\n      <th>content_id</th>\n      <th>content_type_id</th>\n      <th>task_container_id</th>\n      <th>user_answer</th>\n      <th>answered_correctly</th>\n      <th>prior_question_elapsed_time</th>\n      <th>prior_question_had_explanation</th>\n    </tr>\n  </thead>\n  <tbody>\n    <tr>\n      <th>count</th>\n      <td>100000.000000</td>\n      <td>1.000000e+05</td>\n      <td>1.000000e+05</td>\n      <td>100000.00000</td>\n      <td>100000.000000</td>\n      <td>100000.000000</td>\n      <td>100000.000000</td>\n      <td>100000.000000</td>\n      <td>97834.000000</td>\n      <td>99652</td>\n    </tr>\n    <tr>\n      <th>unique</th>\n      <td>NaN</td>\n      <td>NaN</td>\n      <td>NaN</td>\n      <td>NaN</td>\n      <td>NaN</td>\n      <td>NaN</td>\n      <td>NaN</td>\n      <td>NaN</td>\n      <td>NaN</td>\n      <td>2</td>\n    </tr>\n    <tr>\n      <th>top</th>\n      <td>NaN</td>\n      <td>NaN</td>\n      <td>NaN</td>\n      <td>NaN</td>\n      <td>NaN</td>\n      <td>NaN</td>\n      <td>NaN</td>\n      <td>NaN</td>\n      <td>NaN</td>\n      <td>True</td>\n    </tr>\n    <tr>\n      <th>freq</th>\n      <td>NaN</td>\n      <td>NaN</td>\n      <td>NaN</td>\n      <td>NaN</td>\n      <td>NaN</td>\n      <td>NaN</td>\n      <td>NaN</td>\n      <td>NaN</td>\n      <td>NaN</td>\n      <td>90349</td>\n    </tr>\n    <tr>\n      <th>mean</th>\n      <td>49999.500000</td>\n      <td>7.332661e+09</td>\n      <td>1.090868e+06</td>\n      <td>5156.21962</td>\n      <td>0.018180</td>\n      <td>974.593070</td>\n      <td>1.382490</td>\n      <td>0.655080</td>\n      <td>24715.389854</td>\n      <td>NaN</td>\n    </tr>\n    <tr>\n      <th>std</th>\n      <td>28867.657797</td>\n      <td>1.031230e+10</td>\n      <td>6.657180e+05</td>\n      <td>3896.63440</td>\n      <td>0.133603</td>\n      <td>1205.095836</td>\n      <td>1.193602</td>\n      <td>0.512165</td>\n      <td>17379.027689</td>\n      <td>NaN</td>\n    </tr>\n    <tr>\n      <th>min</th>\n      <td>0.000000</td>\n      <td>0.000000e+00</td>\n      <td>1.150000e+02</td>\n      <td>0.00000</td>\n      <td>0.000000</td>\n      <td>0.000000</td>\n      <td>-1.000000</td>\n      <td>-1.000000</td>\n      <td>0.000000</td>\n      <td>NaN</td>\n    </tr>\n    <tr>\n      <th>25%</th>\n      <td>24999.750000</td>\n      <td>6.595929e+08</td>\n      <td>4.590170e+05</td>\n      <td>1797.00000</td>\n      <td>0.000000</td>\n      <td>124.000000</td>\n      <td>0.000000</td>\n      <td>0.000000</td>\n      <td>16000.000000</td>\n      <td>NaN</td>\n    </tr>\n    <tr>\n      <th>50%</th>\n      <td>49999.500000</td>\n      <td>4.015927e+09</td>\n      <td>1.282581e+06</td>\n      <td>4980.00000</td>\n      <td>0.000000</td>\n      <td>458.000000</td>\n      <td>1.000000</td>\n      <td>1.000000</td>\n      <td>21000.000000</td>\n      <td>NaN</td>\n    </tr>\n    <tr>\n      <th>75%</th>\n      <td>74999.250000</td>\n      <td>1.000065e+10</td>\n      <td>1.567938e+06</td>\n      <td>7427.00000</td>\n      <td>0.000000</td>\n      <td>1358.000000</td>\n      <td>3.000000</td>\n      <td>1.000000</td>\n      <td>28666.000000</td>\n      <td>NaN</td>\n    </tr>\n    <tr>\n      <th>max</th>\n      <td>99999.000000</td>\n      <td>5.949531e+10</td>\n      <td>2.078569e+06</td>\n      <td>32736.00000</td>\n      <td>1.000000</td>\n      <td>5630.000000</td>\n      <td>3.000000</td>\n      <td>1.000000</td>\n      <td>300000.000000</td>\n      <td>NaN</td>\n    </tr>\n  </tbody>\n</table>\n</div>"
     },
     "metadata": {},
     "execution_count": 61
    }
   ],
   "source": [
    "train.describe(include='all')"
   ]
  },
  {
   "source": [
    "## Missing Value"
   ],
   "cell_type": "markdown",
   "metadata": {}
  },
  {
   "cell_type": "code",
   "execution_count": 62,
   "metadata": {},
   "outputs": [
    {
     "output_type": "execute_result",
     "data": {
      "text/plain": [
       "<matplotlib.axes._subplots.AxesSubplot at 0x7f61cd190340>"
      ]
     },
     "metadata": {},
     "execution_count": 62
    },
    {
     "output_type": "display_data",
     "data": {
      "text/plain": "<Figure size 576x432 with 1 Axes>",
      "image/svg+xml": "<?xml version=\"1.0\" encoding=\"utf-8\" standalone=\"no\"?>\n<!DOCTYPE svg PUBLIC \"-//W3C//DTD SVG 1.1//EN\"\n  \"http://www.w3.org/Graphics/SVG/1.1/DTD/svg11.dtd\">\n<!-- Created with matplotlib (https://matplotlib.org/) -->\n<svg height=\"357.238125pt\" version=\"1.1\" viewBox=\"0 0 627.05625 357.238125\" width=\"627.05625pt\" xmlns=\"http://www.w3.org/2000/svg\" xmlns:xlink=\"http://www.w3.org/1999/xlink\">\n <defs>\n  <style type=\"text/css\">\n*{stroke-linecap:butt;stroke-linejoin:round;}\n  </style>\n </defs>\n <g id=\"figure_1\">\n  <g id=\"patch_1\">\n   <path d=\"M 0 357.238125 \nL 627.05625 357.238125 \nL 627.05625 0 \nL 0 0 \nz\n\" style=\"fill:none;\"/>\n  </g>\n  <g id=\"axes_1\">\n   <g id=\"patch_2\">\n    <path d=\"M 173.45625 333.36 \nL 619.85625 333.36 \nL 619.85625 7.2 \nL 173.45625 7.2 \nz\n\" style=\"fill:#ffffff;\"/>\n   </g>\n   <g id=\"patch_3\">\n    <path clip-path=\"url(#p2d6fa32a6d)\" d=\"M 173.45625 325.206 \nL 598.599107 325.206 \nL 598.599107 308.898 \nL 173.45625 308.898 \nz\n\" style=\"fill:#1f77b4;\"/>\n   </g>\n   <g id=\"patch_4\">\n    <path clip-path=\"url(#p2d6fa32a6d)\" d=\"M 173.45625 292.59 \nL 241.761751 292.59 \nL 241.761751 276.282 \nL 173.45625 276.282 \nz\n\" style=\"fill:#1f77b4;\"/>\n   </g>\n   <g id=\"patch_5\">\n    <path clip-path=\"url(#p2d6fa32a6d)\" d=\"M 173.45625 259.974 \nL 173.45625 259.974 \nL 173.45625 243.666 \nL 173.45625 243.666 \nz\n\" style=\"fill:#1f77b4;\"/>\n   </g>\n   <g id=\"patch_6\">\n    <path clip-path=\"url(#p2d6fa32a6d)\" d=\"M 173.45625 227.358 \nL 173.45625 227.358 \nL 173.45625 211.05 \nL 173.45625 211.05 \nz\n\" style=\"fill:#1f77b4;\"/>\n   </g>\n   <g id=\"patch_7\">\n    <path clip-path=\"url(#p2d6fa32a6d)\" d=\"M 173.45625 194.742 \nL 173.45625 194.742 \nL 173.45625 178.434 \nL 173.45625 178.434 \nz\n\" style=\"fill:#1f77b4;\"/>\n   </g>\n   <g id=\"patch_8\">\n    <path clip-path=\"url(#p2d6fa32a6d)\" d=\"M 173.45625 162.126 \nL 173.45625 162.126 \nL 173.45625 145.818 \nL 173.45625 145.818 \nz\n\" style=\"fill:#1f77b4;\"/>\n   </g>\n   <g id=\"patch_9\">\n    <path clip-path=\"url(#p2d6fa32a6d)\" d=\"M 173.45625 129.51 \nL 173.45625 129.51 \nL 173.45625 113.202 \nL 173.45625 113.202 \nz\n\" style=\"fill:#1f77b4;\"/>\n   </g>\n   <g id=\"patch_10\">\n    <path clip-path=\"url(#p2d6fa32a6d)\" d=\"M 173.45625 96.894 \nL 173.45625 96.894 \nL 173.45625 80.586 \nL 173.45625 80.586 \nz\n\" style=\"fill:#1f77b4;\"/>\n   </g>\n   <g id=\"patch_11\">\n    <path clip-path=\"url(#p2d6fa32a6d)\" d=\"M 173.45625 64.278 \nL 173.45625 64.278 \nL 173.45625 47.97 \nL 173.45625 47.97 \nz\n\" style=\"fill:#1f77b4;\"/>\n   </g>\n   <g id=\"patch_12\">\n    <path clip-path=\"url(#p2d6fa32a6d)\" d=\"M 173.45625 31.662 \nL 173.45625 31.662 \nL 173.45625 15.354 \nL 173.45625 15.354 \nz\n\" style=\"fill:#1f77b4;\"/>\n   </g>\n   <g id=\"matplotlib.axis_1\">\n    <g id=\"xtick_1\">\n     <g id=\"line2d_1\">\n      <defs>\n       <path d=\"M 0 0 \nL 0 3.5 \n\" id=\"m8d78a69b7f\" style=\"stroke:#000000;stroke-width:0.8;\"/>\n      </defs>\n      <g>\n       <use style=\"stroke:#000000;stroke-width:0.8;\" x=\"173.45625\" xlink:href=\"#m8d78a69b7f\" y=\"333.36\"/>\n      </g>\n     </g>\n     <g id=\"text_1\">\n      <!-- 0.0 -->\n      <defs>\n       <path d=\"M 31.78125 66.40625 \nQ 24.171875 66.40625 20.328125 58.90625 \nQ 16.5 51.421875 16.5 36.375 \nQ 16.5 21.390625 20.328125 13.890625 \nQ 24.171875 6.390625 31.78125 6.390625 \nQ 39.453125 6.390625 43.28125 13.890625 \nQ 47.125 21.390625 47.125 36.375 \nQ 47.125 51.421875 43.28125 58.90625 \nQ 39.453125 66.40625 31.78125 66.40625 \nz\nM 31.78125 74.21875 \nQ 44.046875 74.21875 50.515625 64.515625 \nQ 56.984375 54.828125 56.984375 36.375 \nQ 56.984375 17.96875 50.515625 8.265625 \nQ 44.046875 -1.421875 31.78125 -1.421875 \nQ 19.53125 -1.421875 13.0625 8.265625 \nQ 6.59375 17.96875 6.59375 36.375 \nQ 6.59375 54.828125 13.0625 64.515625 \nQ 19.53125 74.21875 31.78125 74.21875 \nz\n\" id=\"DejaVuSans-48\"/>\n       <path d=\"M 10.6875 12.40625 \nL 21 12.40625 \nL 21 0 \nL 10.6875 0 \nz\n\" id=\"DejaVuSans-46\"/>\n      </defs>\n      <g transform=\"translate(165.504688 347.958438)scale(0.1 -0.1)\">\n       <use xlink:href=\"#DejaVuSans-48\"/>\n       <use x=\"63.623047\" xlink:href=\"#DejaVuSans-46\"/>\n       <use x=\"95.410156\" xlink:href=\"#DejaVuSans-48\"/>\n      </g>\n     </g>\n    </g>\n    <g id=\"xtick_2\">\n     <g id=\"line2d_2\">\n      <g>\n       <use style=\"stroke:#000000;stroke-width:0.8;\" x=\"271.596337\" xlink:href=\"#m8d78a69b7f\" y=\"333.36\"/>\n      </g>\n     </g>\n     <g id=\"text_2\">\n      <!-- 0.5 -->\n      <defs>\n       <path d=\"M 10.796875 72.90625 \nL 49.515625 72.90625 \nL 49.515625 64.59375 \nL 19.828125 64.59375 \nL 19.828125 46.734375 \nQ 21.96875 47.46875 24.109375 47.828125 \nQ 26.265625 48.1875 28.421875 48.1875 \nQ 40.625 48.1875 47.75 41.5 \nQ 54.890625 34.8125 54.890625 23.390625 \nQ 54.890625 11.625 47.5625 5.09375 \nQ 40.234375 -1.421875 26.90625 -1.421875 \nQ 22.3125 -1.421875 17.546875 -0.640625 \nQ 12.796875 0.140625 7.71875 1.703125 \nL 7.71875 11.625 \nQ 12.109375 9.234375 16.796875 8.0625 \nQ 21.484375 6.890625 26.703125 6.890625 \nQ 35.15625 6.890625 40.078125 11.328125 \nQ 45.015625 15.765625 45.015625 23.390625 \nQ 45.015625 31 40.078125 35.4375 \nQ 35.15625 39.890625 26.703125 39.890625 \nQ 22.75 39.890625 18.8125 39.015625 \nQ 14.890625 38.140625 10.796875 36.28125 \nz\n\" id=\"DejaVuSans-53\"/>\n      </defs>\n      <g transform=\"translate(263.644775 347.958438)scale(0.1 -0.1)\">\n       <use xlink:href=\"#DejaVuSans-48\"/>\n       <use x=\"63.623047\" xlink:href=\"#DejaVuSans-46\"/>\n       <use x=\"95.410156\" xlink:href=\"#DejaVuSans-53\"/>\n      </g>\n     </g>\n    </g>\n    <g id=\"xtick_3\">\n     <g id=\"line2d_3\">\n      <g>\n       <use style=\"stroke:#000000;stroke-width:0.8;\" x=\"369.736424\" xlink:href=\"#m8d78a69b7f\" y=\"333.36\"/>\n      </g>\n     </g>\n     <g id=\"text_3\">\n      <!-- 1.0 -->\n      <defs>\n       <path d=\"M 12.40625 8.296875 \nL 28.515625 8.296875 \nL 28.515625 63.921875 \nL 10.984375 60.40625 \nL 10.984375 69.390625 \nL 28.421875 72.90625 \nL 38.28125 72.90625 \nL 38.28125 8.296875 \nL 54.390625 8.296875 \nL 54.390625 0 \nL 12.40625 0 \nz\n\" id=\"DejaVuSans-49\"/>\n      </defs>\n      <g transform=\"translate(361.784862 347.958438)scale(0.1 -0.1)\">\n       <use xlink:href=\"#DejaVuSans-49\"/>\n       <use x=\"63.623047\" xlink:href=\"#DejaVuSans-46\"/>\n       <use x=\"95.410156\" xlink:href=\"#DejaVuSans-48\"/>\n      </g>\n     </g>\n    </g>\n    <g id=\"xtick_4\">\n     <g id=\"line2d_4\">\n      <g>\n       <use style=\"stroke:#000000;stroke-width:0.8;\" x=\"467.876511\" xlink:href=\"#m8d78a69b7f\" y=\"333.36\"/>\n      </g>\n     </g>\n     <g id=\"text_4\">\n      <!-- 1.5 -->\n      <g transform=\"translate(459.924949 347.958438)scale(0.1 -0.1)\">\n       <use xlink:href=\"#DejaVuSans-49\"/>\n       <use x=\"63.623047\" xlink:href=\"#DejaVuSans-46\"/>\n       <use x=\"95.410156\" xlink:href=\"#DejaVuSans-53\"/>\n      </g>\n     </g>\n    </g>\n    <g id=\"xtick_5\">\n     <g id=\"line2d_5\">\n      <g>\n       <use style=\"stroke:#000000;stroke-width:0.8;\" x=\"566.016598\" xlink:href=\"#m8d78a69b7f\" y=\"333.36\"/>\n      </g>\n     </g>\n     <g id=\"text_5\">\n      <!-- 2.0 -->\n      <defs>\n       <path d=\"M 19.1875 8.296875 \nL 53.609375 8.296875 \nL 53.609375 0 \nL 7.328125 0 \nL 7.328125 8.296875 \nQ 12.9375 14.109375 22.625 23.890625 \nQ 32.328125 33.6875 34.8125 36.53125 \nQ 39.546875 41.84375 41.421875 45.53125 \nQ 43.3125 49.21875 43.3125 52.78125 \nQ 43.3125 58.59375 39.234375 62.25 \nQ 35.15625 65.921875 28.609375 65.921875 \nQ 23.96875 65.921875 18.8125 64.3125 \nQ 13.671875 62.703125 7.8125 59.421875 \nL 7.8125 69.390625 \nQ 13.765625 71.78125 18.9375 73 \nQ 24.125 74.21875 28.421875 74.21875 \nQ 39.75 74.21875 46.484375 68.546875 \nQ 53.21875 62.890625 53.21875 53.421875 \nQ 53.21875 48.921875 51.53125 44.890625 \nQ 49.859375 40.875 45.40625 35.40625 \nQ 44.1875 33.984375 37.640625 27.21875 \nQ 31.109375 20.453125 19.1875 8.296875 \nz\n\" id=\"DejaVuSans-50\"/>\n      </defs>\n      <g transform=\"translate(558.065036 347.958438)scale(0.1 -0.1)\">\n       <use xlink:href=\"#DejaVuSans-50\"/>\n       <use x=\"63.623047\" xlink:href=\"#DejaVuSans-46\"/>\n       <use x=\"95.410156\" xlink:href=\"#DejaVuSans-48\"/>\n      </g>\n     </g>\n    </g>\n   </g>\n   <g id=\"matplotlib.axis_2\">\n    <g id=\"ytick_1\">\n     <g id=\"line2d_6\">\n      <defs>\n       <path d=\"M 0 0 \nL -3.5 0 \n\" id=\"m1c407bbc63\" style=\"stroke:#000000;stroke-width:0.8;\"/>\n      </defs>\n      <g>\n       <use style=\"stroke:#000000;stroke-width:0.8;\" x=\"173.45625\" xlink:href=\"#m1c407bbc63\" y=\"317.052\"/>\n      </g>\n     </g>\n     <g id=\"text_6\">\n      <!-- prior_question_elapsed_time -->\n      <defs>\n       <path d=\"M 18.109375 8.203125 \nL 18.109375 -20.796875 \nL 9.078125 -20.796875 \nL 9.078125 54.6875 \nL 18.109375 54.6875 \nL 18.109375 46.390625 \nQ 20.953125 51.265625 25.265625 53.625 \nQ 29.59375 56 35.59375 56 \nQ 45.5625 56 51.78125 48.09375 \nQ 58.015625 40.1875 58.015625 27.296875 \nQ 58.015625 14.40625 51.78125 6.484375 \nQ 45.5625 -1.421875 35.59375 -1.421875 \nQ 29.59375 -1.421875 25.265625 0.953125 \nQ 20.953125 3.328125 18.109375 8.203125 \nz\nM 48.6875 27.296875 \nQ 48.6875 37.203125 44.609375 42.84375 \nQ 40.53125 48.484375 33.40625 48.484375 \nQ 26.265625 48.484375 22.1875 42.84375 \nQ 18.109375 37.203125 18.109375 27.296875 \nQ 18.109375 17.390625 22.1875 11.75 \nQ 26.265625 6.109375 33.40625 6.109375 \nQ 40.53125 6.109375 44.609375 11.75 \nQ 48.6875 17.390625 48.6875 27.296875 \nz\n\" id=\"DejaVuSans-112\"/>\n       <path d=\"M 41.109375 46.296875 \nQ 39.59375 47.171875 37.8125 47.578125 \nQ 36.03125 48 33.890625 48 \nQ 26.265625 48 22.1875 43.046875 \nQ 18.109375 38.09375 18.109375 28.8125 \nL 18.109375 0 \nL 9.078125 0 \nL 9.078125 54.6875 \nL 18.109375 54.6875 \nL 18.109375 46.1875 \nQ 20.953125 51.171875 25.484375 53.578125 \nQ 30.03125 56 36.53125 56 \nQ 37.453125 56 38.578125 55.875 \nQ 39.703125 55.765625 41.0625 55.515625 \nz\n\" id=\"DejaVuSans-114\"/>\n       <path d=\"M 9.421875 54.6875 \nL 18.40625 54.6875 \nL 18.40625 0 \nL 9.421875 0 \nz\nM 9.421875 75.984375 \nL 18.40625 75.984375 \nL 18.40625 64.59375 \nL 9.421875 64.59375 \nz\n\" id=\"DejaVuSans-105\"/>\n       <path d=\"M 30.609375 48.390625 \nQ 23.390625 48.390625 19.1875 42.75 \nQ 14.984375 37.109375 14.984375 27.296875 \nQ 14.984375 17.484375 19.15625 11.84375 \nQ 23.34375 6.203125 30.609375 6.203125 \nQ 37.796875 6.203125 41.984375 11.859375 \nQ 46.1875 17.53125 46.1875 27.296875 \nQ 46.1875 37.015625 41.984375 42.703125 \nQ 37.796875 48.390625 30.609375 48.390625 \nz\nM 30.609375 56 \nQ 42.328125 56 49.015625 48.375 \nQ 55.71875 40.765625 55.71875 27.296875 \nQ 55.71875 13.875 49.015625 6.21875 \nQ 42.328125 -1.421875 30.609375 -1.421875 \nQ 18.84375 -1.421875 12.171875 6.21875 \nQ 5.515625 13.875 5.515625 27.296875 \nQ 5.515625 40.765625 12.171875 48.375 \nQ 18.84375 56 30.609375 56 \nz\n\" id=\"DejaVuSans-111\"/>\n       <path d=\"M 50.984375 -16.609375 \nL 50.984375 -23.578125 \nL -0.984375 -23.578125 \nL -0.984375 -16.609375 \nz\n\" id=\"DejaVuSans-95\"/>\n       <path d=\"M 14.796875 27.296875 \nQ 14.796875 17.390625 18.875 11.75 \nQ 22.953125 6.109375 30.078125 6.109375 \nQ 37.203125 6.109375 41.296875 11.75 \nQ 45.40625 17.390625 45.40625 27.296875 \nQ 45.40625 37.203125 41.296875 42.84375 \nQ 37.203125 48.484375 30.078125 48.484375 \nQ 22.953125 48.484375 18.875 42.84375 \nQ 14.796875 37.203125 14.796875 27.296875 \nz\nM 45.40625 8.203125 \nQ 42.578125 3.328125 38.25 0.953125 \nQ 33.9375 -1.421875 27.875 -1.421875 \nQ 17.96875 -1.421875 11.734375 6.484375 \nQ 5.515625 14.40625 5.515625 27.296875 \nQ 5.515625 40.1875 11.734375 48.09375 \nQ 17.96875 56 27.875 56 \nQ 33.9375 56 38.25 53.625 \nQ 42.578125 51.265625 45.40625 46.390625 \nL 45.40625 54.6875 \nL 54.390625 54.6875 \nL 54.390625 -20.796875 \nL 45.40625 -20.796875 \nz\n\" id=\"DejaVuSans-113\"/>\n       <path d=\"M 8.5 21.578125 \nL 8.5 54.6875 \nL 17.484375 54.6875 \nL 17.484375 21.921875 \nQ 17.484375 14.15625 20.5 10.265625 \nQ 23.53125 6.390625 29.59375 6.390625 \nQ 36.859375 6.390625 41.078125 11.03125 \nQ 45.3125 15.671875 45.3125 23.6875 \nL 45.3125 54.6875 \nL 54.296875 54.6875 \nL 54.296875 0 \nL 45.3125 0 \nL 45.3125 8.40625 \nQ 42.046875 3.421875 37.71875 1 \nQ 33.40625 -1.421875 27.6875 -1.421875 \nQ 18.265625 -1.421875 13.375 4.4375 \nQ 8.5 10.296875 8.5 21.578125 \nz\nM 31.109375 56 \nz\n\" id=\"DejaVuSans-117\"/>\n       <path d=\"M 56.203125 29.59375 \nL 56.203125 25.203125 \nL 14.890625 25.203125 \nQ 15.484375 15.921875 20.484375 11.0625 \nQ 25.484375 6.203125 34.421875 6.203125 \nQ 39.59375 6.203125 44.453125 7.46875 \nQ 49.3125 8.734375 54.109375 11.28125 \nL 54.109375 2.78125 \nQ 49.265625 0.734375 44.1875 -0.34375 \nQ 39.109375 -1.421875 33.890625 -1.421875 \nQ 20.796875 -1.421875 13.15625 6.1875 \nQ 5.515625 13.8125 5.515625 26.8125 \nQ 5.515625 40.234375 12.765625 48.109375 \nQ 20.015625 56 32.328125 56 \nQ 43.359375 56 49.78125 48.890625 \nQ 56.203125 41.796875 56.203125 29.59375 \nz\nM 47.21875 32.234375 \nQ 47.125 39.59375 43.09375 43.984375 \nQ 39.0625 48.390625 32.421875 48.390625 \nQ 24.90625 48.390625 20.390625 44.140625 \nQ 15.875 39.890625 15.1875 32.171875 \nz\n\" id=\"DejaVuSans-101\"/>\n       <path d=\"M 44.28125 53.078125 \nL 44.28125 44.578125 \nQ 40.484375 46.53125 36.375 47.5 \nQ 32.28125 48.484375 27.875 48.484375 \nQ 21.1875 48.484375 17.84375 46.4375 \nQ 14.5 44.390625 14.5 40.28125 \nQ 14.5 37.15625 16.890625 35.375 \nQ 19.28125 33.59375 26.515625 31.984375 \nL 29.59375 31.296875 \nQ 39.15625 29.25 43.1875 25.515625 \nQ 47.21875 21.78125 47.21875 15.09375 \nQ 47.21875 7.46875 41.1875 3.015625 \nQ 35.15625 -1.421875 24.609375 -1.421875 \nQ 20.21875 -1.421875 15.453125 -0.5625 \nQ 10.6875 0.296875 5.421875 2 \nL 5.421875 11.28125 \nQ 10.40625 8.6875 15.234375 7.390625 \nQ 20.0625 6.109375 24.8125 6.109375 \nQ 31.15625 6.109375 34.5625 8.28125 \nQ 37.984375 10.453125 37.984375 14.40625 \nQ 37.984375 18.0625 35.515625 20.015625 \nQ 33.0625 21.96875 24.703125 23.78125 \nL 21.578125 24.515625 \nQ 13.234375 26.265625 9.515625 29.90625 \nQ 5.8125 33.546875 5.8125 39.890625 \nQ 5.8125 47.609375 11.28125 51.796875 \nQ 16.75 56 26.8125 56 \nQ 31.78125 56 36.171875 55.265625 \nQ 40.578125 54.546875 44.28125 53.078125 \nz\n\" id=\"DejaVuSans-115\"/>\n       <path d=\"M 18.3125 70.21875 \nL 18.3125 54.6875 \nL 36.8125 54.6875 \nL 36.8125 47.703125 \nL 18.3125 47.703125 \nL 18.3125 18.015625 \nQ 18.3125 11.328125 20.140625 9.421875 \nQ 21.96875 7.515625 27.59375 7.515625 \nL 36.8125 7.515625 \nL 36.8125 0 \nL 27.59375 0 \nQ 17.1875 0 13.234375 3.875 \nQ 9.28125 7.765625 9.28125 18.015625 \nL 9.28125 47.703125 \nL 2.6875 47.703125 \nL 2.6875 54.6875 \nL 9.28125 54.6875 \nL 9.28125 70.21875 \nz\n\" id=\"DejaVuSans-116\"/>\n       <path d=\"M 54.890625 33.015625 \nL 54.890625 0 \nL 45.90625 0 \nL 45.90625 32.71875 \nQ 45.90625 40.484375 42.875 44.328125 \nQ 39.84375 48.1875 33.796875 48.1875 \nQ 26.515625 48.1875 22.3125 43.546875 \nQ 18.109375 38.921875 18.109375 30.90625 \nL 18.109375 0 \nL 9.078125 0 \nL 9.078125 54.6875 \nL 18.109375 54.6875 \nL 18.109375 46.1875 \nQ 21.34375 51.125 25.703125 53.5625 \nQ 30.078125 56 35.796875 56 \nQ 45.21875 56 50.046875 50.171875 \nQ 54.890625 44.34375 54.890625 33.015625 \nz\n\" id=\"DejaVuSans-110\"/>\n       <path d=\"M 9.421875 75.984375 \nL 18.40625 75.984375 \nL 18.40625 0 \nL 9.421875 0 \nz\n\" id=\"DejaVuSans-108\"/>\n       <path d=\"M 34.28125 27.484375 \nQ 23.390625 27.484375 19.1875 25 \nQ 14.984375 22.515625 14.984375 16.5 \nQ 14.984375 11.71875 18.140625 8.90625 \nQ 21.296875 6.109375 26.703125 6.109375 \nQ 34.1875 6.109375 38.703125 11.40625 \nQ 43.21875 16.703125 43.21875 25.484375 \nL 43.21875 27.484375 \nz\nM 52.203125 31.203125 \nL 52.203125 0 \nL 43.21875 0 \nL 43.21875 8.296875 \nQ 40.140625 3.328125 35.546875 0.953125 \nQ 30.953125 -1.421875 24.3125 -1.421875 \nQ 15.921875 -1.421875 10.953125 3.296875 \nQ 6 8.015625 6 15.921875 \nQ 6 25.140625 12.171875 29.828125 \nQ 18.359375 34.515625 30.609375 34.515625 \nL 43.21875 34.515625 \nL 43.21875 35.40625 \nQ 43.21875 41.609375 39.140625 45 \nQ 35.0625 48.390625 27.6875 48.390625 \nQ 23 48.390625 18.546875 47.265625 \nQ 14.109375 46.140625 10.015625 43.890625 \nL 10.015625 52.203125 \nQ 14.9375 54.109375 19.578125 55.046875 \nQ 24.21875 56 28.609375 56 \nQ 40.484375 56 46.34375 49.84375 \nQ 52.203125 43.703125 52.203125 31.203125 \nz\n\" id=\"DejaVuSans-97\"/>\n       <path d=\"M 45.40625 46.390625 \nL 45.40625 75.984375 \nL 54.390625 75.984375 \nL 54.390625 0 \nL 45.40625 0 \nL 45.40625 8.203125 \nQ 42.578125 3.328125 38.25 0.953125 \nQ 33.9375 -1.421875 27.875 -1.421875 \nQ 17.96875 -1.421875 11.734375 6.484375 \nQ 5.515625 14.40625 5.515625 27.296875 \nQ 5.515625 40.1875 11.734375 48.09375 \nQ 17.96875 56 27.875 56 \nQ 33.9375 56 38.25 53.625 \nQ 42.578125 51.265625 45.40625 46.390625 \nz\nM 14.796875 27.296875 \nQ 14.796875 17.390625 18.875 11.75 \nQ 22.953125 6.109375 30.078125 6.109375 \nQ 37.203125 6.109375 41.296875 11.75 \nQ 45.40625 17.390625 45.40625 27.296875 \nQ 45.40625 37.203125 41.296875 42.84375 \nQ 37.203125 48.484375 30.078125 48.484375 \nQ 22.953125 48.484375 18.875 42.84375 \nQ 14.796875 37.203125 14.796875 27.296875 \nz\n\" id=\"DejaVuSans-100\"/>\n       <path d=\"M 52 44.1875 \nQ 55.375 50.25 60.0625 53.125 \nQ 64.75 56 71.09375 56 \nQ 79.640625 56 84.28125 50.015625 \nQ 88.921875 44.046875 88.921875 33.015625 \nL 88.921875 0 \nL 79.890625 0 \nL 79.890625 32.71875 \nQ 79.890625 40.578125 77.09375 44.375 \nQ 74.3125 48.1875 68.609375 48.1875 \nQ 61.625 48.1875 57.5625 43.546875 \nQ 53.515625 38.921875 53.515625 30.90625 \nL 53.515625 0 \nL 44.484375 0 \nL 44.484375 32.71875 \nQ 44.484375 40.625 41.703125 44.40625 \nQ 38.921875 48.1875 33.109375 48.1875 \nQ 26.21875 48.1875 22.15625 43.53125 \nQ 18.109375 38.875 18.109375 30.90625 \nL 18.109375 0 \nL 9.078125 0 \nL 9.078125 54.6875 \nL 18.109375 54.6875 \nL 18.109375 46.1875 \nQ 21.1875 51.21875 25.484375 53.609375 \nQ 29.78125 56 35.6875 56 \nQ 41.65625 56 45.828125 52.96875 \nQ 50 49.953125 52 44.1875 \nz\n\" id=\"DejaVuSans-109\"/>\n      </defs>\n      <g transform=\"translate(23.075 320.851219)scale(0.1 -0.1)\">\n       <use xlink:href=\"#DejaVuSans-112\"/>\n       <use x=\"63.476562\" xlink:href=\"#DejaVuSans-114\"/>\n       <use x=\"104.589844\" xlink:href=\"#DejaVuSans-105\"/>\n       <use x=\"132.373047\" xlink:href=\"#DejaVuSans-111\"/>\n       <use x=\"193.554688\" xlink:href=\"#DejaVuSans-114\"/>\n       <use x=\"234.667969\" xlink:href=\"#DejaVuSans-95\"/>\n       <use x=\"284.667969\" xlink:href=\"#DejaVuSans-113\"/>\n       <use x=\"348.144531\" xlink:href=\"#DejaVuSans-117\"/>\n       <use x=\"411.523438\" xlink:href=\"#DejaVuSans-101\"/>\n       <use x=\"473.046875\" xlink:href=\"#DejaVuSans-115\"/>\n       <use x=\"525.146484\" xlink:href=\"#DejaVuSans-116\"/>\n       <use x=\"564.355469\" xlink:href=\"#DejaVuSans-105\"/>\n       <use x=\"592.138672\" xlink:href=\"#DejaVuSans-111\"/>\n       <use x=\"653.320312\" xlink:href=\"#DejaVuSans-110\"/>\n       <use x=\"716.699219\" xlink:href=\"#DejaVuSans-95\"/>\n       <use x=\"766.699219\" xlink:href=\"#DejaVuSans-101\"/>\n       <use x=\"828.222656\" xlink:href=\"#DejaVuSans-108\"/>\n       <use x=\"856.005859\" xlink:href=\"#DejaVuSans-97\"/>\n       <use x=\"917.285156\" xlink:href=\"#DejaVuSans-112\"/>\n       <use x=\"980.761719\" xlink:href=\"#DejaVuSans-115\"/>\n       <use x=\"1032.861328\" xlink:href=\"#DejaVuSans-101\"/>\n       <use x=\"1094.384766\" xlink:href=\"#DejaVuSans-100\"/>\n       <use x=\"1157.861328\" xlink:href=\"#DejaVuSans-95\"/>\n       <use x=\"1207.861328\" xlink:href=\"#DejaVuSans-116\"/>\n       <use x=\"1247.070312\" xlink:href=\"#DejaVuSans-105\"/>\n       <use x=\"1274.853516\" xlink:href=\"#DejaVuSans-109\"/>\n       <use x=\"1372.265625\" xlink:href=\"#DejaVuSans-101\"/>\n      </g>\n     </g>\n    </g>\n    <g id=\"ytick_2\">\n     <g id=\"line2d_7\">\n      <g>\n       <use style=\"stroke:#000000;stroke-width:0.8;\" x=\"173.45625\" xlink:href=\"#m1c407bbc63\" y=\"284.436\"/>\n      </g>\n     </g>\n     <g id=\"text_7\">\n      <!-- prior_question_had_explanation -->\n      <defs>\n       <path d=\"M 54.890625 33.015625 \nL 54.890625 0 \nL 45.90625 0 \nL 45.90625 32.71875 \nQ 45.90625 40.484375 42.875 44.328125 \nQ 39.84375 48.1875 33.796875 48.1875 \nQ 26.515625 48.1875 22.3125 43.546875 \nQ 18.109375 38.921875 18.109375 30.90625 \nL 18.109375 0 \nL 9.078125 0 \nL 9.078125 75.984375 \nL 18.109375 75.984375 \nL 18.109375 46.1875 \nQ 21.34375 51.125 25.703125 53.5625 \nQ 30.078125 56 35.796875 56 \nQ 45.21875 56 50.046875 50.171875 \nQ 54.890625 44.34375 54.890625 33.015625 \nz\n\" id=\"DejaVuSans-104\"/>\n       <path d=\"M 54.890625 54.6875 \nL 35.109375 28.078125 \nL 55.90625 0 \nL 45.3125 0 \nL 29.390625 21.484375 \nL 13.484375 0 \nL 2.875 0 \nL 24.125 28.609375 \nL 4.6875 54.6875 \nL 15.28125 54.6875 \nL 29.78125 35.203125 \nL 44.28125 54.6875 \nz\n\" id=\"DejaVuSans-120\"/>\n      </defs>\n      <g transform=\"translate(7.2 288.235219)scale(0.1 -0.1)\">\n       <use xlink:href=\"#DejaVuSans-112\"/>\n       <use x=\"63.476562\" xlink:href=\"#DejaVuSans-114\"/>\n       <use x=\"104.589844\" xlink:href=\"#DejaVuSans-105\"/>\n       <use x=\"132.373047\" xlink:href=\"#DejaVuSans-111\"/>\n       <use x=\"193.554688\" xlink:href=\"#DejaVuSans-114\"/>\n       <use x=\"234.667969\" xlink:href=\"#DejaVuSans-95\"/>\n       <use x=\"284.667969\" xlink:href=\"#DejaVuSans-113\"/>\n       <use x=\"348.144531\" xlink:href=\"#DejaVuSans-117\"/>\n       <use x=\"411.523438\" xlink:href=\"#DejaVuSans-101\"/>\n       <use x=\"473.046875\" xlink:href=\"#DejaVuSans-115\"/>\n       <use x=\"525.146484\" xlink:href=\"#DejaVuSans-116\"/>\n       <use x=\"564.355469\" xlink:href=\"#DejaVuSans-105\"/>\n       <use x=\"592.138672\" xlink:href=\"#DejaVuSans-111\"/>\n       <use x=\"653.320312\" xlink:href=\"#DejaVuSans-110\"/>\n       <use x=\"716.699219\" xlink:href=\"#DejaVuSans-95\"/>\n       <use x=\"766.699219\" xlink:href=\"#DejaVuSans-104\"/>\n       <use x=\"830.078125\" xlink:href=\"#DejaVuSans-97\"/>\n       <use x=\"891.357422\" xlink:href=\"#DejaVuSans-100\"/>\n       <use x=\"954.833984\" xlink:href=\"#DejaVuSans-95\"/>\n       <use x=\"1004.833984\" xlink:href=\"#DejaVuSans-101\"/>\n       <use x=\"1064.607422\" xlink:href=\"#DejaVuSans-120\"/>\n       <use x=\"1123.787109\" xlink:href=\"#DejaVuSans-112\"/>\n       <use x=\"1187.263672\" xlink:href=\"#DejaVuSans-108\"/>\n       <use x=\"1215.046875\" xlink:href=\"#DejaVuSans-97\"/>\n       <use x=\"1276.326172\" xlink:href=\"#DejaVuSans-110\"/>\n       <use x=\"1339.705078\" xlink:href=\"#DejaVuSans-97\"/>\n       <use x=\"1400.984375\" xlink:href=\"#DejaVuSans-116\"/>\n       <use x=\"1440.193359\" xlink:href=\"#DejaVuSans-105\"/>\n       <use x=\"1467.976562\" xlink:href=\"#DejaVuSans-111\"/>\n       <use x=\"1529.158203\" xlink:href=\"#DejaVuSans-110\"/>\n      </g>\n     </g>\n    </g>\n    <g id=\"ytick_3\">\n     <g id=\"line2d_8\">\n      <g>\n       <use style=\"stroke:#000000;stroke-width:0.8;\" x=\"173.45625\" xlink:href=\"#m1c407bbc63\" y=\"251.82\"/>\n      </g>\n     </g>\n     <g id=\"text_8\">\n      <!-- answered_correctly -->\n      <defs>\n       <path d=\"M 4.203125 54.6875 \nL 13.1875 54.6875 \nL 24.421875 12.015625 \nL 35.59375 54.6875 \nL 46.1875 54.6875 \nL 57.421875 12.015625 \nL 68.609375 54.6875 \nL 77.59375 54.6875 \nL 63.28125 0 \nL 52.6875 0 \nL 40.921875 44.828125 \nL 29.109375 0 \nL 18.5 0 \nz\n\" id=\"DejaVuSans-119\"/>\n       <path d=\"M 48.78125 52.59375 \nL 48.78125 44.1875 \nQ 44.96875 46.296875 41.140625 47.34375 \nQ 37.3125 48.390625 33.40625 48.390625 \nQ 24.65625 48.390625 19.8125 42.84375 \nQ 14.984375 37.3125 14.984375 27.296875 \nQ 14.984375 17.28125 19.8125 11.734375 \nQ 24.65625 6.203125 33.40625 6.203125 \nQ 37.3125 6.203125 41.140625 7.25 \nQ 44.96875 8.296875 48.78125 10.40625 \nL 48.78125 2.09375 \nQ 45.015625 0.34375 40.984375 -0.53125 \nQ 36.96875 -1.421875 32.421875 -1.421875 \nQ 20.0625 -1.421875 12.78125 6.34375 \nQ 5.515625 14.109375 5.515625 27.296875 \nQ 5.515625 40.671875 12.859375 48.328125 \nQ 20.21875 56 33.015625 56 \nQ 37.15625 56 41.109375 55.140625 \nQ 45.0625 54.296875 48.78125 52.59375 \nz\n\" id=\"DejaVuSans-99\"/>\n       <path d=\"M 32.171875 -5.078125 \nQ 28.375 -14.84375 24.75 -17.8125 \nQ 21.140625 -20.796875 15.09375 -20.796875 \nL 7.90625 -20.796875 \nL 7.90625 -13.28125 \nL 13.1875 -13.28125 \nQ 16.890625 -13.28125 18.9375 -11.515625 \nQ 21 -9.765625 23.484375 -3.21875 \nL 25.09375 0.875 \nL 2.984375 54.6875 \nL 12.5 54.6875 \nL 29.59375 11.921875 \nL 46.6875 54.6875 \nL 56.203125 54.6875 \nz\n\" id=\"DejaVuSans-121\"/>\n      </defs>\n      <g transform=\"translate(69.354688 255.619219)scale(0.1 -0.1)\">\n       <use xlink:href=\"#DejaVuSans-97\"/>\n       <use x=\"61.279297\" xlink:href=\"#DejaVuSans-110\"/>\n       <use x=\"124.658203\" xlink:href=\"#DejaVuSans-115\"/>\n       <use x=\"176.757812\" xlink:href=\"#DejaVuSans-119\"/>\n       <use x=\"258.544922\" xlink:href=\"#DejaVuSans-101\"/>\n       <use x=\"320.068359\" xlink:href=\"#DejaVuSans-114\"/>\n       <use x=\"358.931641\" xlink:href=\"#DejaVuSans-101\"/>\n       <use x=\"420.455078\" xlink:href=\"#DejaVuSans-100\"/>\n       <use x=\"483.931641\" xlink:href=\"#DejaVuSans-95\"/>\n       <use x=\"533.931641\" xlink:href=\"#DejaVuSans-99\"/>\n       <use x=\"588.912109\" xlink:href=\"#DejaVuSans-111\"/>\n       <use x=\"650.09375\" xlink:href=\"#DejaVuSans-114\"/>\n       <use x=\"689.457031\" xlink:href=\"#DejaVuSans-114\"/>\n       <use x=\"728.320312\" xlink:href=\"#DejaVuSans-101\"/>\n       <use x=\"789.84375\" xlink:href=\"#DejaVuSans-99\"/>\n       <use x=\"844.824219\" xlink:href=\"#DejaVuSans-116\"/>\n       <use x=\"884.033203\" xlink:href=\"#DejaVuSans-108\"/>\n       <use x=\"911.816406\" xlink:href=\"#DejaVuSans-121\"/>\n      </g>\n     </g>\n    </g>\n    <g id=\"ytick_4\">\n     <g id=\"line2d_9\">\n      <g>\n       <use style=\"stroke:#000000;stroke-width:0.8;\" x=\"173.45625\" xlink:href=\"#m1c407bbc63\" y=\"219.204\"/>\n      </g>\n     </g>\n     <g id=\"text_9\">\n      <!-- user_answer -->\n      <g transform=\"translate(103.528125 222.864156)scale(0.1 -0.1)\">\n       <use xlink:href=\"#DejaVuSans-117\"/>\n       <use x=\"63.378906\" xlink:href=\"#DejaVuSans-115\"/>\n       <use x=\"115.478516\" xlink:href=\"#DejaVuSans-101\"/>\n       <use x=\"177.001953\" xlink:href=\"#DejaVuSans-114\"/>\n       <use x=\"218.115234\" xlink:href=\"#DejaVuSans-95\"/>\n       <use x=\"268.115234\" xlink:href=\"#DejaVuSans-97\"/>\n       <use x=\"329.394531\" xlink:href=\"#DejaVuSans-110\"/>\n       <use x=\"392.773438\" xlink:href=\"#DejaVuSans-115\"/>\n       <use x=\"444.873047\" xlink:href=\"#DejaVuSans-119\"/>\n       <use x=\"526.660156\" xlink:href=\"#DejaVuSans-101\"/>\n       <use x=\"588.183594\" xlink:href=\"#DejaVuSans-114\"/>\n      </g>\n     </g>\n    </g>\n    <g id=\"ytick_5\">\n     <g id=\"line2d_10\">\n      <g>\n       <use style=\"stroke:#000000;stroke-width:0.8;\" x=\"173.45625\" xlink:href=\"#m1c407bbc63\" y=\"186.588\"/>\n      </g>\n     </g>\n     <g id=\"text_10\">\n      <!-- task_container_id -->\n      <defs>\n       <path d=\"M 9.078125 75.984375 \nL 18.109375 75.984375 \nL 18.109375 31.109375 \nL 44.921875 54.6875 \nL 56.390625 54.6875 \nL 27.390625 29.109375 \nL 57.625 0 \nL 45.90625 0 \nL 18.109375 26.703125 \nL 18.109375 0 \nL 9.078125 0 \nz\n\" id=\"DejaVuSans-107\"/>\n      </defs>\n      <g transform=\"translate(78.898438 190.387219)scale(0.1 -0.1)\">\n       <use xlink:href=\"#DejaVuSans-116\"/>\n       <use x=\"39.208984\" xlink:href=\"#DejaVuSans-97\"/>\n       <use x=\"100.488281\" xlink:href=\"#DejaVuSans-115\"/>\n       <use x=\"152.587891\" xlink:href=\"#DejaVuSans-107\"/>\n       <use x=\"210.498047\" xlink:href=\"#DejaVuSans-95\"/>\n       <use x=\"260.498047\" xlink:href=\"#DejaVuSans-99\"/>\n       <use x=\"315.478516\" xlink:href=\"#DejaVuSans-111\"/>\n       <use x=\"376.660156\" xlink:href=\"#DejaVuSans-110\"/>\n       <use x=\"440.039062\" xlink:href=\"#DejaVuSans-116\"/>\n       <use x=\"479.248047\" xlink:href=\"#DejaVuSans-97\"/>\n       <use x=\"540.527344\" xlink:href=\"#DejaVuSans-105\"/>\n       <use x=\"568.310547\" xlink:href=\"#DejaVuSans-110\"/>\n       <use x=\"631.689453\" xlink:href=\"#DejaVuSans-101\"/>\n       <use x=\"693.212891\" xlink:href=\"#DejaVuSans-114\"/>\n       <use x=\"734.326172\" xlink:href=\"#DejaVuSans-95\"/>\n       <use x=\"784.326172\" xlink:href=\"#DejaVuSans-105\"/>\n       <use x=\"812.109375\" xlink:href=\"#DejaVuSans-100\"/>\n      </g>\n     </g>\n    </g>\n    <g id=\"ytick_6\">\n     <g id=\"line2d_11\">\n      <g>\n       <use style=\"stroke:#000000;stroke-width:0.8;\" x=\"173.45625\" xlink:href=\"#m1c407bbc63\" y=\"153.972\"/>\n      </g>\n     </g>\n     <g id=\"text_11\">\n      <!-- content_type_id -->\n      <g transform=\"translate(86.703125 157.771219)scale(0.1 -0.1)\">\n       <use xlink:href=\"#DejaVuSans-99\"/>\n       <use x=\"54.980469\" xlink:href=\"#DejaVuSans-111\"/>\n       <use x=\"116.162109\" xlink:href=\"#DejaVuSans-110\"/>\n       <use x=\"179.541016\" xlink:href=\"#DejaVuSans-116\"/>\n       <use x=\"218.75\" xlink:href=\"#DejaVuSans-101\"/>\n       <use x=\"280.273438\" xlink:href=\"#DejaVuSans-110\"/>\n       <use x=\"343.652344\" xlink:href=\"#DejaVuSans-116\"/>\n       <use x=\"382.861328\" xlink:href=\"#DejaVuSans-95\"/>\n       <use x=\"432.861328\" xlink:href=\"#DejaVuSans-116\"/>\n       <use x=\"472.070312\" xlink:href=\"#DejaVuSans-121\"/>\n       <use x=\"531.25\" xlink:href=\"#DejaVuSans-112\"/>\n       <use x=\"594.726562\" xlink:href=\"#DejaVuSans-101\"/>\n       <use x=\"656.25\" xlink:href=\"#DejaVuSans-95\"/>\n       <use x=\"706.25\" xlink:href=\"#DejaVuSans-105\"/>\n       <use x=\"734.033203\" xlink:href=\"#DejaVuSans-100\"/>\n      </g>\n     </g>\n    </g>\n    <g id=\"ytick_7\">\n     <g id=\"line2d_12\">\n      <g>\n       <use style=\"stroke:#000000;stroke-width:0.8;\" x=\"173.45625\" xlink:href=\"#m1c407bbc63\" y=\"121.356\"/>\n      </g>\n     </g>\n     <g id=\"text_12\">\n      <!-- content_id -->\n      <g transform=\"translate(114.04375 125.155219)scale(0.1 -0.1)\">\n       <use xlink:href=\"#DejaVuSans-99\"/>\n       <use x=\"54.980469\" xlink:href=\"#DejaVuSans-111\"/>\n       <use x=\"116.162109\" xlink:href=\"#DejaVuSans-110\"/>\n       <use x=\"179.541016\" xlink:href=\"#DejaVuSans-116\"/>\n       <use x=\"218.75\" xlink:href=\"#DejaVuSans-101\"/>\n       <use x=\"280.273438\" xlink:href=\"#DejaVuSans-110\"/>\n       <use x=\"343.652344\" xlink:href=\"#DejaVuSans-116\"/>\n       <use x=\"382.861328\" xlink:href=\"#DejaVuSans-95\"/>\n       <use x=\"432.861328\" xlink:href=\"#DejaVuSans-105\"/>\n       <use x=\"460.644531\" xlink:href=\"#DejaVuSans-100\"/>\n      </g>\n     </g>\n    </g>\n    <g id=\"ytick_8\">\n     <g id=\"line2d_13\">\n      <g>\n       <use style=\"stroke:#000000;stroke-width:0.8;\" x=\"173.45625\" xlink:href=\"#m1c407bbc63\" y=\"88.74\"/>\n      </g>\n     </g>\n     <g id=\"text_13\">\n      <!-- user_id -->\n      <g transform=\"translate(130.51875 92.539219)scale(0.1 -0.1)\">\n       <use xlink:href=\"#DejaVuSans-117\"/>\n       <use x=\"63.378906\" xlink:href=\"#DejaVuSans-115\"/>\n       <use x=\"115.478516\" xlink:href=\"#DejaVuSans-101\"/>\n       <use x=\"177.001953\" xlink:href=\"#DejaVuSans-114\"/>\n       <use x=\"218.115234\" xlink:href=\"#DejaVuSans-95\"/>\n       <use x=\"268.115234\" xlink:href=\"#DejaVuSans-105\"/>\n       <use x=\"295.898438\" xlink:href=\"#DejaVuSans-100\"/>\n      </g>\n     </g>\n    </g>\n    <g id=\"ytick_9\">\n     <g id=\"line2d_14\">\n      <g>\n       <use style=\"stroke:#000000;stroke-width:0.8;\" x=\"173.45625\" xlink:href=\"#m1c407bbc63\" y=\"56.124\"/>\n      </g>\n     </g>\n     <g id=\"text_14\">\n      <!-- timestamp -->\n      <g transform=\"translate(112.517188 59.923219)scale(0.1 -0.1)\">\n       <use xlink:href=\"#DejaVuSans-116\"/>\n       <use x=\"39.208984\" xlink:href=\"#DejaVuSans-105\"/>\n       <use x=\"66.992188\" xlink:href=\"#DejaVuSans-109\"/>\n       <use x=\"164.404297\" xlink:href=\"#DejaVuSans-101\"/>\n       <use x=\"225.927734\" xlink:href=\"#DejaVuSans-115\"/>\n       <use x=\"278.027344\" xlink:href=\"#DejaVuSans-116\"/>\n       <use x=\"317.236328\" xlink:href=\"#DejaVuSans-97\"/>\n       <use x=\"378.515625\" xlink:href=\"#DejaVuSans-109\"/>\n       <use x=\"475.927734\" xlink:href=\"#DejaVuSans-112\"/>\n      </g>\n     </g>\n    </g>\n    <g id=\"ytick_10\">\n     <g id=\"line2d_15\">\n      <g>\n       <use style=\"stroke:#000000;stroke-width:0.8;\" x=\"173.45625\" xlink:href=\"#m1c407bbc63\" y=\"23.508\"/>\n      </g>\n     </g>\n     <g id=\"text_15\">\n      <!-- row_id -->\n      <g transform=\"translate(134.146875 27.307219)scale(0.1 -0.1)\">\n       <use xlink:href=\"#DejaVuSans-114\"/>\n       <use x=\"38.863281\" xlink:href=\"#DejaVuSans-111\"/>\n       <use x=\"100.044922\" xlink:href=\"#DejaVuSans-119\"/>\n       <use x=\"181.832031\" xlink:href=\"#DejaVuSans-95\"/>\n       <use x=\"231.832031\" xlink:href=\"#DejaVuSans-105\"/>\n       <use x=\"259.615234\" xlink:href=\"#DejaVuSans-100\"/>\n      </g>\n     </g>\n    </g>\n   </g>\n   <g id=\"patch_13\">\n    <path d=\"M 173.45625 333.36 \nL 173.45625 7.2 \n\" style=\"fill:none;stroke:#000000;stroke-linecap:square;stroke-linejoin:miter;stroke-width:0.8;\"/>\n   </g>\n   <g id=\"patch_14\">\n    <path d=\"M 619.85625 333.36 \nL 619.85625 7.2 \n\" style=\"fill:none;stroke:#000000;stroke-linecap:square;stroke-linejoin:miter;stroke-width:0.8;\"/>\n   </g>\n   <g id=\"patch_15\">\n    <path d=\"M 173.45625 333.36 \nL 619.85625 333.36 \n\" style=\"fill:none;stroke:#000000;stroke-linecap:square;stroke-linejoin:miter;stroke-width:0.8;\"/>\n   </g>\n   <g id=\"patch_16\">\n    <path d=\"M 173.45625 7.2 \nL 619.85625 7.2 \n\" style=\"fill:none;stroke:#000000;stroke-linecap:square;stroke-linejoin:miter;stroke-width:0.8;\"/>\n   </g>\n  </g>\n </g>\n <defs>\n  <clipPath id=\"p2d6fa32a6d\">\n   <rect height=\"326.16\" width=\"446.4\" x=\"173.45625\" y=\"7.2\"/>\n  </clipPath>\n </defs>\n</svg>\n",
      "image/png": "[encoded data removed]"
     },
     "metadata": {
      "needs_background": "light"
     }
    }
   ],
   "source": [
    "(train.isna().sum()*100/len(train)).sort_values(ascending=False).plot.barh(figsize = (8, 6))"
   ]
  },
  {
   "cell_type": "code",
   "execution_count": 63,
   "metadata": {},
   "outputs": [],
   "source": [
    "questions = pd.read_csv('/home/tonne/code/autotonne/data/questions.csv')"
   ]
  },
  {
   "cell_type": "code",
   "execution_count": 64,
   "metadata": {},
   "outputs": [
    {
     "output_type": "execute_result",
     "data": {
      "text/plain": [
       "       question_id  bundle_id  correct_answer  part            tags\n",
       "0                0          0               0     1   51 131 162 38\n",
       "1                1          1               1     1       131 36 81\n",
       "2                2          2               0     1  131 101 162 92\n",
       "3                3          3               0     1  131 149 162 29\n",
       "4                4          4               3     1    131 5 162 38\n",
       "...            ...        ...             ...   ...             ...\n",
       "13518        13518      13518               3     5              14\n",
       "13519        13519      13519               3     5               8\n",
       "13520        13520      13520               2     5              73\n",
       "13521        13521      13521               0     5             125\n",
       "13522        13522      13522               3     5              55\n",
       "\n",
       "[13523 rows x 5 columns]"
      ],
      "text/html": "<div>\n<style scoped>\n    .dataframe tbody tr th:only-of-type {\n        vertical-align: middle;\n    }\n\n    .dataframe tbody tr th {\n        vertical-align: top;\n    }\n\n    .dataframe thead th {\n        text-align: right;\n    }\n</style>\n<table border=\"1\" class=\"dataframe\">\n  <thead>\n    <tr style=\"text-align: right;\">\n      <th></th>\n      <th>question_id</th>\n      <th>bundle_id</th>\n      <th>correct_answer</th>\n      <th>part</th>\n      <th>tags</th>\n    </tr>\n  </thead>\n  <tbody>\n    <tr>\n      <th>0</th>\n      <td>0</td>\n      <td>0</td>\n      <td>0</td>\n      <td>1</td>\n      <td>51 131 162 38</td>\n    </tr>\n    <tr>\n      <th>1</th>\n      <td>1</td>\n      <td>1</td>\n      <td>1</td>\n      <td>1</td>\n      <td>131 36 81</td>\n    </tr>\n    <tr>\n      <th>2</th>\n      <td>2</td>\n      <td>2</td>\n      <td>0</td>\n      <td>1</td>\n      <td>131 101 162 92</td>\n    </tr>\n    <tr>\n      <th>3</th>\n      <td>3</td>\n      <td>3</td>\n      <td>0</td>\n      <td>1</td>\n      <td>131 149 162 29</td>\n    </tr>\n    <tr>\n      <th>4</th>\n      <td>4</td>\n      <td>4</td>\n      <td>3</td>\n      <td>1</td>\n      <td>131 5 162 38</td>\n    </tr>\n    <tr>\n      <th>...</th>\n      <td>...</td>\n      <td>...</td>\n      <td>...</td>\n      <td>...</td>\n      <td>...</td>\n    </tr>\n    <tr>\n      <th>13518</th>\n      <td>13518</td>\n      <td>13518</td>\n      <td>3</td>\n      <td>5</td>\n      <td>14</td>\n    </tr>\n    <tr>\n      <th>13519</th>\n      <td>13519</td>\n      <td>13519</td>\n      <td>3</td>\n      <td>5</td>\n      <td>8</td>\n    </tr>\n    <tr>\n      <th>13520</th>\n      <td>13520</td>\n      <td>13520</td>\n      <td>2</td>\n      <td>5</td>\n      <td>73</td>\n    </tr>\n    <tr>\n      <th>13521</th>\n      <td>13521</td>\n      <td>13521</td>\n      <td>0</td>\n      <td>5</td>\n      <td>125</td>\n    </tr>\n    <tr>\n      <th>13522</th>\n      <td>13522</td>\n      <td>13522</td>\n      <td>3</td>\n      <td>5</td>\n      <td>55</td>\n    </tr>\n  </tbody>\n</table>\n<p>13523 rows × 5 columns</p>\n</div>"
     },
     "metadata": {},
     "execution_count": 64
    }
   ],
   "source": [
    "questions"
   ]
  },
  {
   "cell_type": "code",
   "execution_count": 65,
   "metadata": {},
   "outputs": [],
   "source": [
    "lectures = pd.read_csv('/home/tonne/code/autotonne/data/riiid/lectures.csv')"
   ]
  },
  {
   "cell_type": "code",
   "execution_count": 66,
   "metadata": {},
   "outputs": [
    {
     "output_type": "execute_result",
     "data": {
      "text/plain": [
       "     lecture_id  tag  part           type_of\n",
       "0            89  159     5           concept\n",
       "1           100   70     1           concept\n",
       "2           185   45     6           concept\n",
       "3           192   79     5  solving question\n",
       "4           317  156     5  solving question\n",
       "..          ...  ...   ...               ...\n",
       "413       32535    8     5  solving question\n",
       "414       32570  113     3  solving question\n",
       "415       32604   24     6           concept\n",
       "416       32625  142     2           concept\n",
       "417       32736   82     3           concept\n",
       "\n",
       "[418 rows x 4 columns]"
      ],
      "text/html": "<div>\n<style scoped>\n    .dataframe tbody tr th:only-of-type {\n        vertical-align: middle;\n    }\n\n    .dataframe tbody tr th {\n        vertical-align: top;\n    }\n\n    .dataframe thead th {\n        text-align: right;\n    }\n</style>\n<table border=\"1\" class=\"dataframe\">\n  <thead>\n    <tr style=\"text-align: right;\">\n      <th></th>\n      <th>lecture_id</th>\n      <th>tag</th>\n      <th>part</th>\n      <th>type_of</th>\n    </tr>\n  </thead>\n  <tbody>\n    <tr>\n      <th>0</th>\n      <td>89</td>\n      <td>159</td>\n      <td>5</td>\n      <td>concept</td>\n    </tr>\n    <tr>\n      <th>1</th>\n      <td>100</td>\n      <td>70</td>\n      <td>1</td>\n      <td>concept</td>\n    </tr>\n    <tr>\n      <th>2</th>\n      <td>185</td>\n      <td>45</td>\n      <td>6</td>\n      <td>concept</td>\n    </tr>\n    <tr>\n      <th>3</th>\n      <td>192</td>\n      <td>79</td>\n      <td>5</td>\n      <td>solving question</td>\n    </tr>\n    <tr>\n      <th>4</th>\n      <td>317</td>\n      <td>156</td>\n      <td>5</td>\n      <td>solving question</td>\n    </tr>\n    <tr>\n      <th>...</th>\n      <td>...</td>\n      <td>...</td>\n      <td>...</td>\n      <td>...</td>\n    </tr>\n    <tr>\n      <th>413</th>\n      <td>32535</td>\n      <td>8</td>\n      <td>5</td>\n      <td>solving question</td>\n    </tr>\n    <tr>\n      <th>414</th>\n      <td>32570</td>\n      <td>113</td>\n      <td>3</td>\n      <td>solving question</td>\n    </tr>\n    <tr>\n      <th>415</th>\n      <td>32604</td>\n      <td>24</td>\n      <td>6</td>\n      <td>concept</td>\n    </tr>\n    <tr>\n      <th>416</th>\n      <td>32625</td>\n      <td>142</td>\n      <td>2</td>\n      <td>concept</td>\n    </tr>\n    <tr>\n      <th>417</th>\n      <td>32736</td>\n      <td>82</td>\n      <td>3</td>\n      <td>concept</td>\n    </tr>\n  </tbody>\n</table>\n<p>418 rows × 4 columns</p>\n</div>"
     },
     "metadata": {},
     "execution_count": 66
    }
   ],
   "source": [
    "lectures"
   ]
  },
  {
   "cell_type": "code",
   "execution_count": 67,
   "metadata": {},
   "outputs": [],
   "source": [
    "test = pd.read_csv('/home/tonne/code/autotonne/data/riiid/example_test.csv')"
   ]
  },
  {
   "cell_type": "code",
   "execution_count": 68,
   "metadata": {},
   "outputs": [
    {
     "output_type": "stream",
     "name": "stdout",
     "text": [
      "<class 'pandas.core.frame.DataFrame'>\nRangeIndex: 104 entries, 0 to 103\nData columns (total 11 columns):\n #   Column                          Non-Null Count  Dtype  \n---  ------                          --------------  -----  \n 0   row_id                          104 non-null    int64  \n 1   group_num                       104 non-null    int64  \n 2   timestamp                       104 non-null    int64  \n 3   user_id                         104 non-null    int64  \n 4   content_id                      104 non-null    int64  \n 5   content_type_id                 104 non-null    int64  \n 6   task_container_id               104 non-null    int64  \n 7   prior_question_elapsed_time     103 non-null    float64\n 8   prior_question_had_explanation  103 non-null    object \n 9   prior_group_answers_correct     4 non-null      object \n 10  prior_group_responses           4 non-null      object \ndtypes: float64(1), int64(7), object(3)\nmemory usage: 9.1+ KB\n"
     ]
    }
   ],
   "source": [
    "test.info()"
   ]
  },
  {
   "cell_type": "code",
   "execution_count": 69,
   "metadata": {},
   "outputs": [
    {
     "output_type": "stream",
     "name": "stdout",
     "text": [
      "<class 'pandas.core.frame.DataFrame'>\nRangeIndex: 100000 entries, 0 to 99999\nData columns (total 10 columns):\n #   Column                          Non-Null Count   Dtype  \n---  ------                          --------------   -----  \n 0   row_id                          100000 non-null  int64  \n 1   timestamp                       100000 non-null  int64  \n 2   user_id                         100000 non-null  int64  \n 3   content_id                      100000 non-null  int64  \n 4   content_type_id                 100000 non-null  int64  \n 5   task_container_id               100000 non-null  int64  \n 6   user_answer                     100000 non-null  int64  \n 7   answered_correctly              100000 non-null  int64  \n 8   prior_question_elapsed_time     97834 non-null   float64\n 9   prior_question_had_explanation  99652 non-null   object \ndtypes: float64(1), int64(8), object(1)\nmemory usage: 7.6+ MB\n"
     ]
    }
   ],
   "source": [
    "train.info()"
   ]
  },
  {
   "cell_type": "code",
   "execution_count": 101,
   "metadata": {},
   "outputs": [],
   "source": [
    "train = pd.read_csv('/home/tonne/code/autotonne/data/riiid/train.csv', nrows = 100000)\n",
    "train['timestamp'] = pd.to_datetime(train['timestamp'], unit='ns')"
   ]
  },
  {
   "cell_type": "code",
   "execution_count": 102,
   "metadata": {},
   "outputs": [
    {
     "output_type": "execute_result",
     "data": {
      "text/plain": [
       "(Timestamp('1970-01-01 00:00:00'), Timestamp('1970-01-01 00:01:27.425772049'))"
      ]
     },
     "metadata": {},
     "execution_count": 102
    }
   ],
   "source": [
    "train['timestamp'].min(), train['timestamp'].max()"
   ]
  },
  {
   "cell_type": "code",
   "execution_count": null,
   "metadata": {},
   "outputs": [],
   "source": [
    "def maketimefeature(df):\n",
    "    df['minute'] = df['timestamp'].dt.minute\n",
    "    df['second'] = df['timestamp'].dt.second\n",
    "    df['microsecond'] = df['timestamp'].dt.microsecond\n",
    "    return df"
   ]
  },
  {
   "cell_type": "code",
   "execution_count": 70,
   "metadata": {},
   "outputs": [],
   "source": [
    "train_df = pd.read_csv('/home/tonne/code/autotonne/data/riiid/train.csv', nrows= 10000)\n",
    "features_df = train_df.iloc[:int(9 /10 * len(train_df))]\n",
    "train_df = train_df.iloc[int(9 /10 * len(train_df)):]\n"
   ]
  },
  {
   "cell_type": "code",
   "execution_count": 71,
   "metadata": {},
   "outputs": [
    {
     "output_type": "execute_result",
     "data": {
      "text/plain": [
       "         mean_user_accuracy  questions_answered  std_user_accuracy  \\\n",
       "user_id                                                              \n",
       "115                0.695652                  46           0.465215   \n",
       "124                0.233333                  30           0.430183   \n",
       "2746               0.578947                  19           0.507257   \n",
       "5382               0.672000                 125           0.471374   \n",
       "8623               0.642202                 109           0.481566   \n",
       "8701               0.588235                  17           0.507300   \n",
       "12741              0.573585                 265           0.495491   \n",
       "13134              0.706356                1243           0.455614   \n",
       "24418              0.690275                6283           0.462417   \n",
       "24600              0.340000                  50           0.478518   \n",
       "32421              0.466667                  30           0.507416   \n",
       "40828              0.630435                  92           0.485332   \n",
       "44331              0.587629                 291           0.493109   \n",
       "45001              0.233333                  30           0.430183   \n",
       "46886              0.613636                  44           0.492545   \n",
       "50132              0.621622                  74           0.488293   \n",
       "51285              0.545455                  22           0.509647   \n",
       "53842              0.291667                  24           0.464306   \n",
       "\n",
       "         median_user_accuracy  skew_user_accuracy  \n",
       "user_id                                            \n",
       "115                         1           -0.879359  \n",
       "124                         0            1.328338  \n",
       "2746                        1           -0.347892  \n",
       "5382                        1           -0.741648  \n",
       "8623                        1           -0.601619  \n",
       "8701                        1           -0.394244  \n",
       "12741                       1           -0.299277  \n",
       "13134                       1           -0.907294  \n",
       "24418                       1           -0.823222  \n",
       "24600                       0            0.696595  \n",
       "32421                       0            0.140769  \n",
       "40828                       1           -0.549452  \n",
       "44331                       1           -0.357873  \n",
       "45001                       0            1.328338  \n",
       "46886                       1           -0.483398  \n",
       "50132                       1           -0.511988  \n",
       "51285                       1           -0.196214  \n",
       "53842                       0            0.978979  "
      ],
      "text/html": "<div>\n<style scoped>\n    .dataframe tbody tr th:only-of-type {\n        vertical-align: middle;\n    }\n\n    .dataframe tbody tr th {\n        vertical-align: top;\n    }\n\n    .dataframe thead th {\n        text-align: right;\n    }\n</style>\n<table border=\"1\" class=\"dataframe\">\n  <thead>\n    <tr style=\"text-align: right;\">\n      <th></th>\n      <th>mean_user_accuracy</th>\n      <th>questions_answered</th>\n      <th>std_user_accuracy</th>\n      <th>median_user_accuracy</th>\n      <th>skew_user_accuracy</th>\n    </tr>\n    <tr>\n      <th>user_id</th>\n      <th></th>\n      <th></th>\n      <th></th>\n      <th></th>\n      <th></th>\n    </tr>\n  </thead>\n  <tbody>\n    <tr>\n      <th>115</th>\n      <td>0.695652</td>\n      <td>46</td>\n      <td>0.465215</td>\n      <td>1</td>\n      <td>-0.879359</td>\n    </tr>\n    <tr>\n      <th>124</th>\n      <td>0.233333</td>\n      <td>30</td>\n      <td>0.430183</td>\n      <td>0</td>\n      <td>1.328338</td>\n    </tr>\n    <tr>\n      <th>2746</th>\n      <td>0.578947</td>\n      <td>19</td>\n      <td>0.507257</td>\n      <td>1</td>\n      <td>-0.347892</td>\n    </tr>\n    <tr>\n      <th>5382</th>\n      <td>0.672000</td>\n      <td>125</td>\n      <td>0.471374</td>\n      <td>1</td>\n      <td>-0.741648</td>\n    </tr>\n    <tr>\n      <th>8623</th>\n      <td>0.642202</td>\n      <td>109</td>\n      <td>0.481566</td>\n      <td>1</td>\n      <td>-0.601619</td>\n    </tr>\n    <tr>\n      <th>8701</th>\n      <td>0.588235</td>\n      <td>17</td>\n      <td>0.507300</td>\n      <td>1</td>\n      <td>-0.394244</td>\n    </tr>\n    <tr>\n      <th>12741</th>\n      <td>0.573585</td>\n      <td>265</td>\n      <td>0.495491</td>\n      <td>1</td>\n      <td>-0.299277</td>\n    </tr>\n    <tr>\n      <th>13134</th>\n      <td>0.706356</td>\n      <td>1243</td>\n      <td>0.455614</td>\n      <td>1</td>\n      <td>-0.907294</td>\n    </tr>\n    <tr>\n      <th>24418</th>\n      <td>0.690275</td>\n      <td>6283</td>\n      <td>0.462417</td>\n      <td>1</td>\n      <td>-0.823222</td>\n    </tr>\n    <tr>\n      <th>24600</th>\n      <td>0.340000</td>\n      <td>50</td>\n      <td>0.478518</td>\n      <td>0</td>\n      <td>0.696595</td>\n    </tr>\n    <tr>\n      <th>32421</th>\n      <td>0.466667</td>\n      <td>30</td>\n      <td>0.507416</td>\n      <td>0</td>\n      <td>0.140769</td>\n    </tr>\n    <tr>\n      <th>40828</th>\n      <td>0.630435</td>\n      <td>92</td>\n      <td>0.485332</td>\n      <td>1</td>\n      <td>-0.549452</td>\n    </tr>\n    <tr>\n      <th>44331</th>\n      <td>0.587629</td>\n      <td>291</td>\n      <td>0.493109</td>\n      <td>1</td>\n      <td>-0.357873</td>\n    </tr>\n    <tr>\n      <th>45001</th>\n      <td>0.233333</td>\n      <td>30</td>\n      <td>0.430183</td>\n      <td>0</td>\n      <td>1.328338</td>\n    </tr>\n    <tr>\n      <th>46886</th>\n      <td>0.613636</td>\n      <td>44</td>\n      <td>0.492545</td>\n      <td>1</td>\n      <td>-0.483398</td>\n    </tr>\n    <tr>\n      <th>50132</th>\n      <td>0.621622</td>\n      <td>74</td>\n      <td>0.488293</td>\n      <td>1</td>\n      <td>-0.511988</td>\n    </tr>\n    <tr>\n      <th>51285</th>\n      <td>0.545455</td>\n      <td>22</td>\n      <td>0.509647</td>\n      <td>1</td>\n      <td>-0.196214</td>\n    </tr>\n    <tr>\n      <th>53842</th>\n      <td>0.291667</td>\n      <td>24</td>\n      <td>0.464306</td>\n      <td>0</td>\n      <td>0.978979</td>\n    </tr>\n  </tbody>\n</table>\n</div>"
     },
     "metadata": {},
     "execution_count": 71
    }
   ],
   "source": [
    "user_answers_df = features_df[features_df['answered_correctly']!=-1].groupby('user_id').agg({'answered_correctly': ['mean', 'count', 'std', 'median', 'skew']})\n",
    "user_answers_df.columns = [\n",
    "    'mean_user_accuracy', \n",
    "    'questions_answered', \n",
    "    'std_user_accuracy', \n",
    "    'median_user_accuracy', \n",
    "    'skew_user_accuracy'\n",
    "]\n",
    "user_answers_df"
   ]
  },
  {
   "cell_type": "code",
   "execution_count": 72,
   "metadata": {},
   "outputs": [
    {
     "output_type": "execute_result",
     "data": {
      "text/plain": [
       "            mean_accuracy  question_asked  std_accuracy  median_accuracy  \\\n",
       "content_id                                                                 \n",
       "0                1.000000               1           NaN              1.0   \n",
       "1                1.000000               1           NaN              1.0   \n",
       "2                0.333333               3      0.577350              0.0   \n",
       "3                0.500000               2      0.707107              0.5   \n",
       "4                0.000000               2      0.000000              0.0   \n",
       "...                   ...             ...           ...              ...   \n",
       "13503            0.000000               1           NaN              0.0   \n",
       "13505            1.000000               1           NaN              1.0   \n",
       "13510            1.000000               1           NaN              1.0   \n",
       "13519            1.000000               1           NaN              1.0   \n",
       "13522            0.000000               1           NaN              0.0   \n",
       "\n",
       "            skew_accuracy  \n",
       "content_id                 \n",
       "0                     NaN  \n",
       "1                     NaN  \n",
       "2                1.732051  \n",
       "3                     NaN  \n",
       "4                     NaN  \n",
       "...                   ...  \n",
       "13503                 NaN  \n",
       "13505                 NaN  \n",
       "13510                 NaN  \n",
       "13519                 NaN  \n",
       "13522                 NaN  \n",
       "\n",
       "[6218 rows x 5 columns]"
      ],
      "text/html": "<div>\n<style scoped>\n    .dataframe tbody tr th:only-of-type {\n        vertical-align: middle;\n    }\n\n    .dataframe tbody tr th {\n        vertical-align: top;\n    }\n\n    .dataframe thead th {\n        text-align: right;\n    }\n</style>\n<table border=\"1\" class=\"dataframe\">\n  <thead>\n    <tr style=\"text-align: right;\">\n      <th></th>\n      <th>mean_accuracy</th>\n      <th>question_asked</th>\n      <th>std_accuracy</th>\n      <th>median_accuracy</th>\n      <th>skew_accuracy</th>\n    </tr>\n    <tr>\n      <th>content_id</th>\n      <th></th>\n      <th></th>\n      <th></th>\n      <th></th>\n      <th></th>\n    </tr>\n  </thead>\n  <tbody>\n    <tr>\n      <th>0</th>\n      <td>1.000000</td>\n      <td>1</td>\n      <td>NaN</td>\n      <td>1.0</td>\n      <td>NaN</td>\n    </tr>\n    <tr>\n      <th>1</th>\n      <td>1.000000</td>\n      <td>1</td>\n      <td>NaN</td>\n      <td>1.0</td>\n      <td>NaN</td>\n    </tr>\n    <tr>\n      <th>2</th>\n      <td>0.333333</td>\n      <td>3</td>\n      <td>0.577350</td>\n      <td>0.0</td>\n      <td>1.732051</td>\n    </tr>\n    <tr>\n      <th>3</th>\n      <td>0.500000</td>\n      <td>2</td>\n      <td>0.707107</td>\n      <td>0.5</td>\n      <td>NaN</td>\n    </tr>\n    <tr>\n      <th>4</th>\n      <td>0.000000</td>\n      <td>2</td>\n      <td>0.000000</td>\n      <td>0.0</td>\n      <td>NaN</td>\n    </tr>\n    <tr>\n      <th>...</th>\n      <td>...</td>\n      <td>...</td>\n      <td>...</td>\n      <td>...</td>\n      <td>...</td>\n    </tr>\n    <tr>\n      <th>13503</th>\n      <td>0.000000</td>\n      <td>1</td>\n      <td>NaN</td>\n      <td>0.0</td>\n      <td>NaN</td>\n    </tr>\n    <tr>\n      <th>13505</th>\n      <td>1.000000</td>\n      <td>1</td>\n      <td>NaN</td>\n      <td>1.0</td>\n      <td>NaN</td>\n    </tr>\n    <tr>\n      <th>13510</th>\n      <td>1.000000</td>\n      <td>1</td>\n      <td>NaN</td>\n      <td>1.0</td>\n      <td>NaN</td>\n    </tr>\n    <tr>\n      <th>13519</th>\n      <td>1.000000</td>\n      <td>1</td>\n      <td>NaN</td>\n      <td>1.0</td>\n      <td>NaN</td>\n    </tr>\n    <tr>\n      <th>13522</th>\n      <td>0.000000</td>\n      <td>1</td>\n      <td>NaN</td>\n      <td>0.0</td>\n      <td>NaN</td>\n    </tr>\n  </tbody>\n</table>\n<p>6218 rows × 5 columns</p>\n</div>"
     },
     "metadata": {},
     "execution_count": 72
    }
   ],
   "source": [
    "content_answers_df = features_df[features_df['answered_correctly']!=-1].groupby('content_id').agg({'answered_correctly': ['mean', 'count', 'std', 'median', 'skew']})\n",
    "content_answers_df.columns = [\n",
    "    'mean_accuracy', \n",
    "    'question_asked', \n",
    "    'std_accuracy', \n",
    "    'median_accuracy', \n",
    "    'skew_accuracy'\n",
    "]\n",
    "\n",
    "content_answers_df"
   ]
  },
  {
   "cell_type": "code",
   "execution_count": 73,
   "metadata": {},
   "outputs": [],
   "source": [
    "train_df = train_df.merge(user_answers_df, how='left', on='user_id')\n",
    "train_df = train_df.merge(content_answers_df, how='left', on='content_id')"
   ]
  },
  {
   "cell_type": "code",
   "execution_count": 74,
   "metadata": {},
   "outputs": [
    {
     "output_type": "execute_result",
     "data": {
      "text/plain": [
       "   row_id  timestamp  user_id  content_id  content_type_id  task_container_id  \\\n",
       "0    9000     502229    53842        6880                0                 14   \n",
       "1    9001     502229    53842        6879                0                 14   \n",
       "2    9002     723461    53842        7219                0                 15   \n",
       "3    9003     723461    53842        7218                0                 15   \n",
       "4    9004     723461    53842        7216                0                 15   \n",
       "\n",
       "   user_answer  answered_correctly  prior_question_elapsed_time  \\\n",
       "0            1                   0                      29000.0   \n",
       "1            3                   0                      29000.0   \n",
       "2            0                   0                      23000.0   \n",
       "3            0                   0                      23000.0   \n",
       "4            2                   0                      23000.0   \n",
       "\n",
       "  prior_question_had_explanation  mean_user_accuracy  questions_answered  \\\n",
       "0                          False            0.291667                24.0   \n",
       "1                          False            0.291667                24.0   \n",
       "2                          False            0.291667                24.0   \n",
       "3                          False            0.291667                24.0   \n",
       "4                          False            0.291667                24.0   \n",
       "\n",
       "   std_user_accuracy  median_user_accuracy  skew_user_accuracy  mean_accuracy  \\\n",
       "0           0.464306                   0.0            0.978979       0.333333   \n",
       "1           0.464306                   0.0            0.978979       0.500000   \n",
       "2           0.464306                   0.0            0.978979       0.166667   \n",
       "3           0.464306                   0.0            0.978979       0.333333   \n",
       "4           0.464306                   0.0            0.978979       0.166667   \n",
       "\n",
       "   question_asked  std_accuracy  median_accuracy  skew_accuracy  \n",
       "0             6.0      0.516398              0.0       0.968246  \n",
       "1             6.0      0.547723              0.5       0.000000  \n",
       "2             6.0      0.408248              0.0       2.449490  \n",
       "3             6.0      0.516398              0.0       0.968246  \n",
       "4             6.0      0.408248              0.0       2.449490  "
      ],
      "text/html": "<div>\n<style scoped>\n    .dataframe tbody tr th:only-of-type {\n        vertical-align: middle;\n    }\n\n    .dataframe tbody tr th {\n        vertical-align: top;\n    }\n\n    .dataframe thead th {\n        text-align: right;\n    }\n</style>\n<table border=\"1\" class=\"dataframe\">\n  <thead>\n    <tr style=\"text-align: right;\">\n      <th></th>\n      <th>row_id</th>\n      <th>timestamp</th>\n      <th>user_id</th>\n      <th>content_id</th>\n      <th>content_type_id</th>\n      <th>task_container_id</th>\n      <th>user_answer</th>\n      <th>answered_correctly</th>\n      <th>prior_question_elapsed_time</th>\n      <th>prior_question_had_explanation</th>\n      <th>mean_user_accuracy</th>\n      <th>questions_answered</th>\n      <th>std_user_accuracy</th>\n      <th>median_user_accuracy</th>\n      <th>skew_user_accuracy</th>\n      <th>mean_accuracy</th>\n      <th>question_asked</th>\n      <th>std_accuracy</th>\n      <th>median_accuracy</th>\n      <th>skew_accuracy</th>\n    </tr>\n  </thead>\n  <tbody>\n    <tr>\n      <th>0</th>\n      <td>9000</td>\n      <td>502229</td>\n      <td>53842</td>\n      <td>6880</td>\n      <td>0</td>\n      <td>14</td>\n      <td>1</td>\n      <td>0</td>\n      <td>29000.0</td>\n      <td>False</td>\n      <td>0.291667</td>\n      <td>24.0</td>\n      <td>0.464306</td>\n      <td>0.0</td>\n      <td>0.978979</td>\n      <td>0.333333</td>\n      <td>6.0</td>\n      <td>0.516398</td>\n      <td>0.0</td>\n      <td>0.968246</td>\n    </tr>\n    <tr>\n      <th>1</th>\n      <td>9001</td>\n      <td>502229</td>\n      <td>53842</td>\n      <td>6879</td>\n      <td>0</td>\n      <td>14</td>\n      <td>3</td>\n      <td>0</td>\n      <td>29000.0</td>\n      <td>False</td>\n      <td>0.291667</td>\n      <td>24.0</td>\n      <td>0.464306</td>\n      <td>0.0</td>\n      <td>0.978979</td>\n      <td>0.500000</td>\n      <td>6.0</td>\n      <td>0.547723</td>\n      <td>0.5</td>\n      <td>0.000000</td>\n    </tr>\n    <tr>\n      <th>2</th>\n      <td>9002</td>\n      <td>723461</td>\n      <td>53842</td>\n      <td>7219</td>\n      <td>0</td>\n      <td>15</td>\n      <td>0</td>\n      <td>0</td>\n      <td>23000.0</td>\n      <td>False</td>\n      <td>0.291667</td>\n      <td>24.0</td>\n      <td>0.464306</td>\n      <td>0.0</td>\n      <td>0.978979</td>\n      <td>0.166667</td>\n      <td>6.0</td>\n      <td>0.408248</td>\n      <td>0.0</td>\n      <td>2.449490</td>\n    </tr>\n    <tr>\n      <th>3</th>\n      <td>9003</td>\n      <td>723461</td>\n      <td>53842</td>\n      <td>7218</td>\n      <td>0</td>\n      <td>15</td>\n      <td>0</td>\n      <td>0</td>\n      <td>23000.0</td>\n      <td>False</td>\n      <td>0.291667</td>\n      <td>24.0</td>\n      <td>0.464306</td>\n      <td>0.0</td>\n      <td>0.978979</td>\n      <td>0.333333</td>\n      <td>6.0</td>\n      <td>0.516398</td>\n      <td>0.0</td>\n      <td>0.968246</td>\n    </tr>\n    <tr>\n      <th>4</th>\n      <td>9004</td>\n      <td>723461</td>\n      <td>53842</td>\n      <td>7216</td>\n      <td>0</td>\n      <td>15</td>\n      <td>2</td>\n      <td>0</td>\n      <td>23000.0</td>\n      <td>False</td>\n      <td>0.291667</td>\n      <td>24.0</td>\n      <td>0.464306</td>\n      <td>0.0</td>\n      <td>0.978979</td>\n      <td>0.166667</td>\n      <td>6.0</td>\n      <td>0.408248</td>\n      <td>0.0</td>\n      <td>2.449490</td>\n    </tr>\n  </tbody>\n</table>\n</div>"
     },
     "metadata": {},
     "execution_count": 74
    }
   ],
   "source": [
    "train_df.head()"
   ]
  },
  {
   "cell_type": "code",
   "execution_count": 75,
   "metadata": {},
   "outputs": [],
   "source": [
    "\n",
    "from sklearn.impute import SimpleImputer\n",
    "import numpy as np\n",
    "numeric_columns = train_df.select_dtypes(include=[np.number]).columns.tolist()\n",
    "train_df[numeric_columns] = SimpleImputer(strategy = 'mean').fit_transform(train_df[numeric_columns])"
   ]
  },
  {
   "cell_type": "code",
   "execution_count": 76,
   "metadata": {},
   "outputs": [
    {
     "output_type": "stream",
     "name": "stdout",
     "text": [
      "\"row_id\",\n\"timestamp\",\n\"user_id\",\n\"content_id\",\n\"content_type_id\",\n\"task_container_id\",\n\"user_answer\",\n\"answered_correctly\",\n\"prior_question_elapsed_time\",\n\"prior_question_had_explanation\",\n\"mean_user_accuracy\",\n\"questions_answered\",\n\"std_user_accuracy\",\n\"median_user_accuracy\",\n\"skew_user_accuracy\",\n\"mean_accuracy\",\n\"question_asked\",\n\"std_accuracy\",\n\"median_accuracy\",\n\"skew_accuracy\",\n"
     ]
    }
   ],
   "source": [
    "for col in train_df.columns:\n",
    "    print('\"{}\",'.format(col))\n",
    "features = [\n",
    "    # \"row_id\",\n",
    "# \"timestamp\",\n",
    "# \"user_id\",\n",
    "# \"content_id\",\n",
    "# \"content_type_id\",\n",
    "# \"task_container_id\",\n",
    "\"user_answer\",\n",
    "\"answered_correctly\",\n",
    "\"prior_question_elapsed_time\",\n",
    "\"prior_question_had_explanation\",\n",
    "\"mean_user_accuracy\",\n",
    "\"questions_answered\",\n",
    "\"std_user_accuracy\",\n",
    "\"median_user_accuracy\",\n",
    "\"skew_user_accuracy\",\n",
    "\"mean_accuracy\",\n",
    "\"question_asked\",\n",
    "\"std_accuracy\",\n",
    "\"median_accuracy\",\n",
    "\"skew_accuracy\",\n",
    "]"
   ]
  },
  {
   "cell_type": "code",
   "execution_count": 80,
   "metadata": {},
   "outputs": [
    {
     "output_type": "stream",
     "name": "stdout",
     "text": [
      "[LightGBM] [Warning] min_data_in_leaf is set=47, min_child_samples=946 will be ignored. Current value: min_data_in_leaf=47\n[LightGBM] [Warning] min_data_in_leaf is set=47, min_child_samples=946 will be ignored. Current value: min_data_in_leaf=47\n[LightGBM] [Warning] Auto-choosing row-wise multi-threading, the overhead of testing was 0.000049 seconds.\nYou can set `force_row_wise=true` to remove the overhead.\nAnd if memory is not enough, you can set `force_col_wise=true`.\n[LightGBM] [Info] Total Bins 145\n[LightGBM] [Info] Number of data points in the train set: 800, number of used features: 8\n[LightGBM] [Warning] min_data_in_leaf is set=47, min_child_samples=946 will be ignored. Current value: min_data_in_leaf=47\n[LightGBM] [Info] Start training from score 0.606250\n[LightGBM] [Warning] No further splits with positive gain, best gain: -inf\nTraining until validation scores don't improve for 100 rounds\n[LightGBM] [Warning] No further splits with positive gain, best gain: -inf\n[LightGBM] [Warning] No further splits with positive gain, best gain: -inf\n[LightGBM] [Warning] No further splits with positive gain, best gain: -inf\n[LightGBM] [Warning] No further splits with positive gain, best gain: -inf\n[LightGBM] [Warning] No further splits with positive gain, best gain: -inf\n[LightGBM] [Warning] No further splits with positive gain, best gain: -inf\n[LightGBM] [Warning] No further splits with positive gain, best gain: -inf\n[LightGBM] [Warning] No further splits with positive gain, best gain: -inf\n[LightGBM] [Warning] No further splits with positive gain, best gain: -inf\n[LightGBM] [Warning] No further splits with positive gain, best gain: -inf\n[LightGBM] [Warning] No further splits with positive gain, best gain: -inf\n[LightGBM] [Warning] No further splits with positive gain, best gain: -inf\n[LightGBM] [Warning] No further splits with positive gain, best gain: -inf\n[LightGBM] [Warning] No further splits with positive gain, best gain: -inf\n[LightGBM] [Warning] No further splits with positive gain, best gain: -inf\n[LightGBM] [Warning] No further splits with positive gain, best gain: -inf\n[LightGBM] [Warning] No further splits with positive gain, best gain: -inf\n[LightGBM] [Warning] No further splits with positive gain, best gain: -inf\n[LightGBM] [Warning] No further splits with positive gain, best gain: -inf\n[LightGBM] [Warning] No further splits with positive gain, best gain: -inf\n[LightGBM] [Warning] No further splits with positive gain, best gain: -inf\n[LightGBM] [Warning] No further splits with positive gain, best gain: -inf\n[LightGBM] [Warning] No further splits with positive gain, best gain: -inf\n[LightGBM] [Warning] No further splits with positive gain, best gain: -inf\n[LightGBM] [Warning] No further splits with positive gain, best gain: -inf\n[LightGBM] [Warning] No further splits with positive gain, best gain: -inf\n[LightGBM] [Warning] No further splits with positive gain, best gain: -inf\n[LightGBM] [Warning] No further splits with positive gain, best gain: -inf\n[LightGBM] [Warning] No further splits with positive gain, best gain: -inf\n[LightGBM] [Warning] No further splits with positive gain, best gain: -inf\n[LightGBM] [Warning] No further splits with positive gain, best gain: -inf\n[LightGBM] [Warning] No further splits with positive gain, best gain: -inf\n[LightGBM] [Warning] No further splits with positive gain, best gain: -inf\n[LightGBM] [Warning] No further splits with positive gain, best gain: -inf\n[LightGBM] [Warning] No further splits with positive gain, best gain: -inf\n[LightGBM] [Warning] No further splits with positive gain, best gain: -inf\n[LightGBM] [Warning] No further splits with positive gain, best gain: -inf\n[LightGBM] [Warning] No further splits with positive gain, best gain: -inf\n[LightGBM] [Warning] No further splits with positive gain, best gain: -inf\n[LightGBM] [Warning] No further splits with positive gain, best gain: -inf\n[LightGBM] [Warning] No further splits with positive gain, best gain: -inf\n[LightGBM] [Warning] No further splits with positive gain, best gain: -inf\n[LightGBM] [Warning] No further splits with positive gain, best gain: -inf\n[LightGBM] [Warning] No further splits with positive gain, best gain: -inf\n[LightGBM] [Warning] No further splits with positive gain, best gain: -inf\n[LightGBM] [Warning] No further splits with positive gain, best gain: -inf\n[LightGBM] [Warning] No further splits with positive gain, best gain: -inf\n[LightGBM] [Warning] No further splits with positive gain, best gain: -inf\n[LightGBM] [Warning] No further splits with positive gain, best gain: -inf\n[50]\tvalid_0's auc: 0.591471\n[LightGBM] [Warning] No further splits with positive gain, best gain: -inf\n[LightGBM] [Warning] No further splits with positive gain, best gain: -inf\n[LightGBM] [Warning] No further splits with positive gain, best gain: -inf\n[LightGBM] [Warning] No further splits with positive gain, best gain: -inf\n[LightGBM] [Warning] No further splits with positive gain, best gain: -inf\n[LightGBM] [Warning] No further splits with positive gain, best gain: -inf\n[LightGBM] [Warning] No further splits with positive gain, best gain: -inf\n[LightGBM] [Warning] No further splits with positive gain, best gain: -inf\n[LightGBM] [Warning] No further splits with positive gain, best gain: -inf\n[LightGBM] [Warning] No further splits with positive gain, best gain: -inf\n[LightGBM] [Warning] No further splits with positive gain, best gain: -inf\n[LightGBM] [Warning] No further splits with positive gain, best gain: -inf\n[LightGBM] [Warning] No further splits with positive gain, best gain: -inf\n[LightGBM] [Warning] No further splits with positive gain, best gain: -inf\n[LightGBM] [Warning] No further splits with positive gain, best gain: -inf\n[LightGBM] [Warning] No further splits with positive gain, best gain: -inf\n[LightGBM] [Warning] No further splits with positive gain, best gain: -inf\n[LightGBM] [Warning] No further splits with positive gain, best gain: -inf\n[LightGBM] [Warning] No further splits with positive gain, best gain: -inf\n[LightGBM] [Warning] No further splits with positive gain, best gain: -inf\n[LightGBM] [Warning] No further splits with positive gain, best gain: -inf\n[LightGBM] [Warning] No further splits with positive gain, best gain: -inf\n[LightGBM] [Warning] No further splits with positive gain, best gain: -inf\n[LightGBM] [Warning] No further splits with positive gain, best gain: -inf\n[LightGBM] [Warning] No further splits with positive gain, best gain: -inf\n[LightGBM] [Warning] No further splits with positive gain, best gain: -inf\n[LightGBM] [Warning] No further splits with positive gain, best gain: -inf\n[LightGBM] [Warning] No further splits with positive gain, best gain: -inf\n[LightGBM] [Warning] No further splits with positive gain, best gain: -inf\n[LightGBM] [Warning] No further splits with positive gain, best gain: -inf\n[LightGBM] [Warning] No further splits with positive gain, best gain: -inf\n[LightGBM] [Warning] No further splits with positive gain, best gain: -inf\n[LightGBM] [Warning] No further splits with positive gain, best gain: -inf\n[LightGBM] [Warning] No further splits with positive gain, best gain: -inf\n[LightGBM] [Warning] No further splits with positive gain, best gain: -inf\n[LightGBM] [Warning] No further splits with positive gain, best gain: -inf\n[LightGBM] [Warning] No further splits with positive gain, best gain: -inf\n[LightGBM] [Warning] No further splits with positive gain, best gain: -inf\n[LightGBM] [Warning] No further splits with positive gain, best gain: -inf\n[LightGBM] [Warning] No further splits with positive gain, best gain: -inf\n[LightGBM] [Warning] No further splits with positive gain, best gain: -inf\n[LightGBM] [Warning] No further splits with positive gain, best gain: -inf\n[LightGBM] [Warning] No further splits with positive gain, best gain: -inf\n[LightGBM] [Warning] No further splits with positive gain, best gain: -inf\n[LightGBM] [Warning] No further splits with positive gain, best gain: -inf\n[LightGBM] [Warning] No further splits with positive gain, best gain: -inf\n[LightGBM] [Warning] No further splits with positive gain, best gain: -inf\n[LightGBM] [Warning] No further splits with positive gain, best gain: -inf\n[LightGBM] [Warning] No further splits with positive gain, best gain: -inf\n[LightGBM] [Warning] No further splits with positive gain, best gain: -inf\n[100]\tvalid_0's auc: 0.624132\n[LightGBM] [Warning] No further splits with positive gain, best gain: -inf\n[LightGBM] [Warning] No further splits with positive gain, best gain: -inf\n[LightGBM] [Warning] No further splits with positive gain, best gain: -inf\nEarly stopping, best iteration is:\n[3]\tvalid_0's auc: 0.64502\n"
     ]
    }
   ],
   "source": [
    "import lightgbm as lgb\n",
    "params = {\n",
    "    'bagging_fraction': 0.5817242323514327,\n",
    "    'feature_fraction': 0.6884588361650144,\n",
    "    'learning_rate': 0.42887924851375825, \n",
    "    'max_depth': 6,\n",
    "    'min_child_samples': 946, \n",
    "    'min_data_in_leaf': 47, \n",
    "    'n_estimators': 169,\n",
    "    'num_leaves': 29,\n",
    "    'random_state': 666,\n",
    "    'num_boost_round': 500,\n",
    "    'metric': 'auc'\n",
    "}\n",
    "X = train_df[features].drop(columns = ['answered_correctly'])\n",
    "y = train_df['answered_correctly']\n",
    "from sklearn.model_selection import train_test_split\n",
    "X_train, X_test, y_train, y_test = train_test_split(X, y, test_size=0.2, stratify = y)\n",
    "data_train = lgb.Dataset(X_train, y_train)\n",
    "data_test = lgb.Dataset(X_test, y_test)\n",
    "model = lgb.train(params = params, train_set = data_train, valid_sets = data_test, early_stopping_rounds = 100, verbose_eval = 50)\n"
   ]
  },
  {
   "cell_type": "code",
   "execution_count": 78,
   "metadata": {},
   "outputs": [
    {
     "output_type": "execute_result",
     "data": {
      "text/plain": [
       "0      False\n",
       "1      False\n",
       "2      False\n",
       "3      False\n",
       "4      False\n",
       "       ...  \n",
       "995     True\n",
       "996     True\n",
       "997     True\n",
       "998     True\n",
       "999     True\n",
       "Name: prior_question_had_explanation, Length: 1000, dtype: bool"
      ]
     },
     "metadata": {},
     "execution_count": 78
    }
   ],
   "source": [
    "X['prior_question_had_explanation']"
   ]
  },
  {
   "cell_type": "code",
   "execution_count": 83,
   "metadata": {},
   "outputs": [
    {
     "output_type": "execute_result",
     "data": {
      "text/plain": [
       " 1.0    638\n",
       " 0.0    331\n",
       "-1.0     31\n",
       "Name: answered_correctly, dtype: int64"
      ]
     },
     "metadata": {},
     "execution_count": 83
    }
   ],
   "source": [
    "y.value_counts()"
   ]
  },
  {
   "cell_type": "code",
   "execution_count": null,
   "metadata": {},
   "outputs": [],
   "source": []
  }
 ]
}